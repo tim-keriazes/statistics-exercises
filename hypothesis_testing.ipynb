{
 "cells": [
  {
   "cell_type": "code",
   "execution_count": 1,
   "id": "c518182c",
   "metadata": {},
   "outputs": [],
   "source": [
    "# Do your work for this exercise in a jupyter notebook named hypothesis_testing.ipynb.\n",
    "\n",
    "# For each of the following questions, formulate a null and alternative hypothesis (be as specific as you can be), then give an example of what a true positive, true negative, type I and type II errors would look like. Note that some of the questions are intentionally phrased in a vague way. It is your job to reword these as more precise questions that could be tested.\n",
    "\n",
    "# Has the network latency gone up since we switched internet service providers?\n",
    "# Is the website redesign any good?\n",
    "# Is our television ad driving more sales?"
   ]
  },
  {
   "cell_type": "code",
   "execution_count": 2,
   "id": "95dfa74f",
   "metadata": {},
   "outputs": [],
   "source": [
    "# Ho: Latency hasn't changed or is less than that before the switch of isp\n",
    "\n",
    "# Ha: Latency has gone up after the switch\n",
    "\n",
    "\n",
    "# True Positive\n",
    "\n",
    "# low p-value\n",
    "# Ho is false, reject Ho, latency has gone up\n",
    "# avg latency after the switch is higher than the average latency before the switch\n",
    "\n",
    "\n",
    "# False Positive\n",
    "\n",
    "# low p-value\n",
    "# Ho is false, reject Ho\n",
    "# a significant difference found in latency prior to and after\n",
    "# we found the latency prior was lower than our measured, external factors impact latency\n",
    "# server crash, downloads, many users etc\n",
    "\n",
    "# False Negative\n",
    "\n",
    "# Ho is true , failed to reject\n",
    "# high p-value\n",
    "# we found the latency to be equal, sampling bias, technology, time of day of test\n",
    "\n",
    "    \n",
    "# # True Negative\n",
    "# high p-value\n",
    "# Ho is true, failed to reject\n",
    "# Latency has stayed the same or gone down"
   ]
  },
  {
   "cell_type": "code",
   "execution_count": 3,
   "id": "4aea53b5",
   "metadata": {},
   "outputs": [],
   "source": [
    "# Is the website redesign any good?\n",
    "\n",
    "# Ho: Traffic has stayed the same or got worse\n",
    "\n",
    "# Ha: Traffic has statistically increased significantly\n",
    "\n",
    "\n",
    "# True Positive\n",
    "\n",
    "# low p-value\n",
    "# Ho is rejected and false, \n",
    "# Traffic has statistically increased significantly\n",
    "\n",
    "\n",
    "\n",
    "# False Positive\n",
    "\n",
    "# low p-value\n",
    "# Ho is rejected and true \n",
    "# traffic increased, due to external factors, holiday season\n",
    "\n",
    "\n",
    "# False Negative\n",
    "\n",
    "# Ho is accepted\n",
    "# high p-value\n",
    "# traffic looked like it stayed the same, sample size\n",
    "\n",
    "    \n",
    "# # True Negative\n",
    "# high p-value\n",
    "# Ho is true, failed to be rejected\n",
    "# traffic stayed the same or went down, bad design"
   ]
  },
  {
   "cell_type": "code",
   "execution_count": 4,
   "id": "92dba786",
   "metadata": {},
   "outputs": [],
   "source": [
    "# Is our television ad driving more sales?\n",
    "\n",
    "# Ho: sales have remained the same or decreased\n",
    "\n",
    "# Ha: sales have statistically increased, significantly\n",
    "\n",
    "\n",
    "# True Positive\n",
    "\n",
    "# low p-value\n",
    "# Ho is rejected and false\n",
    "# sales has statistically increased, significantly\n",
    "\n",
    "\n",
    "\n",
    "# False Positive\n",
    "\n",
    "# low p-value\n",
    "# Ho is rejected and true \n",
    "# sales increased, due to external factors\n",
    "\n",
    "\n",
    "# False Negative\n",
    "\n",
    "# Ho is accepted\n",
    "# high p-value\n",
    "# sales looked like it stayed the same, but they didnt, sample size\n",
    "\n",
    "    \n",
    "# # True Negative\n",
    "# high p-value\n",
    "# Ho is true, failed to be rejected\n",
    "# sales stayed the same, tv ad was a flop"
   ]
  },
  {
   "cell_type": "code",
   "execution_count": null,
   "id": "c5dbea9d",
   "metadata": {},
   "outputs": [],
   "source": []
  },
  {
   "cell_type": "code",
   "execution_count": 5,
   "id": "1d106f93",
   "metadata": {},
   "outputs": [],
   "source": [
    " %matplotlib inline\n",
    "import numpy as np\n",
    "import pandas as pd\n",
    "import matplotlib.pyplot as plt\n",
    "from env import user, host, password\n",
    "from scipy import stats\n",
    "import csv\n",
    "\n",
    "np.random.seed(29)"
   ]
  },
  {
   "cell_type": "code",
   "execution_count": 6,
   "id": "208f32f3",
   "metadata": {},
   "outputs": [],
   "source": [
    "# Ace Realty wants to determine whether the average time it takes to sell homes is different for its two offices.\n",
    "# A sample of 40 sales from office #1 revealed a mean of 90 days and a standard deviation of 15 days.\n",
    "# A sample of 50 sales from office #2 revealed a mean of 100 days and a standard deviation of 20 days.\n",
    "# Use a .05 level of significance."
   ]
  },
  {
   "cell_type": "code",
   "execution_count": 7,
   "id": "b09d18d7",
   "metadata": {},
   "outputs": [
    {
     "data": {
      "text/plain": [
       "Ttest_indResult(statistic=-0.9818269584843405, pvalue=0.32887677054120024)"
      ]
     },
     "execution_count": 7,
     "metadata": {},
     "output_type": "execute_result"
    }
   ],
   "source": [
    "sample_1 = stats.norm(90, 15).rvs(40)\n",
    "sample_2 = stats.norm(100, 20).rvs(50)\n",
    "\n",
    "stats.ttest_ind(sample_1,sample_2)\n",
    "\n",
    "# Average time is different, p-value of 0.0015"
   ]
  },
  {
   "cell_type": "code",
   "execution_count": null,
   "id": "e9136d54",
   "metadata": {},
   "outputs": [],
   "source": []
  },
  {
   "cell_type": "code",
   "execution_count": 8,
   "id": "42c744d6",
   "metadata": {},
   "outputs": [
    {
     "data": {
      "text/plain": [
       "Ttest_indResult(statistic=0.21960177245940962, pvalue=0.8263744040323578)"
      ]
     },
     "execution_count": 8,
     "metadata": {},
     "output_type": "execute_result"
    }
   ],
   "source": [
    "from pydataset import data\n",
    "\n",
    "data = data('mpg')\n",
    "\n",
    "df = pd.DataFrame(data)\n",
    "\n",
    "df2 = df.assign(average_gas = (df.cty + df.hwy)/2)\n",
    "Gas_1999 = df2[df2.year == 1999].average_gas\n",
    "Gas_2008 = df2[df2.year == 2008].average_gas\n",
    "\n",
    "stats.ttest_ind(Gas_1999, Gas_2008)"
   ]
  },
  {
   "cell_type": "code",
   "execution_count": 9,
   "id": "d65bea24",
   "metadata": {},
   "outputs": [
    {
     "data": {
      "text/plain": [
       "<AxesSubplot:>"
      ]
     },
     "execution_count": 9,
     "metadata": {},
     "output_type": "execute_result"
    },
    {
     "data": {
      "image/png": "[encoded data removed]",
      "text/plain": [
       "<Figure size 432x288 with 1 Axes>"
      ]
     },
     "metadata": {
      "needs_background": "light"
     },
     "output_type": "display_data"
    }
   ],
   "source": [
    "Gas_1999.hist()"
   ]
  },
  {
   "cell_type": "code",
   "execution_count": 10,
   "id": "8a87f029",
   "metadata": {
    "scrolled": true
   },
   "outputs": [
    {
     "data": {
      "text/plain": [
       "<AxesSubplot:>"
      ]
     },
     "execution_count": 10,
     "metadata": {},
     "output_type": "execute_result"
    },
    {
     "data": {
      "image/png": "[encoded data removed]",
      "text/plain": [
       "<Figure size 432x288 with 1 Axes>"
      ]
     },
     "metadata": {
      "needs_background": "light"
     },
     "output_type": "display_data"
    }
   ],
   "source": [
    "Gas_2008.hist()"
   ]
  },
  {
   "cell_type": "code",
   "execution_count": 11,
   "id": "c4942245",
   "metadata": {},
   "outputs": [
    {
     "data": {
      "text/plain": [
       "Ttest_indResult(statistic=6.731177612837954, pvalue=1.3059121585018135e-10)"
      ]
     },
     "execution_count": 11,
     "metadata": {},
     "output_type": "execute_result"
    }
   ],
   "source": [
    "compact = df2[df2['class'] == 'compact'].average_gas\n",
    "not_compact = df2[df2['class'] != 'compact'].average_gas\n",
    "not_compact\n",
    "\n",
    "compact_test = stats.ttest_ind(compact, not_compact)\n",
    "compact_test"
   ]
  },
  {
   "cell_type": "code",
   "execution_count": 12,
   "id": "bbe1e0a0",
   "metadata": {},
   "outputs": [
    {
     "data": {
      "text/plain": [
       "(-0.7985239689348549, 4.737914890206176e-53)"
      ]
     },
     "execution_count": 12,
     "metadata": {},
     "output_type": "execute_result"
    }
   ],
   "source": [
    "x = data.displ\n",
    "y = data.cty\n",
    "\n",
    "stats.pearsonr(x,y)"
   ]
  },
  {
   "cell_type": "code",
   "execution_count": 13,
   "id": "c07cf4af",
   "metadata": {},
   "outputs": [],
   "source": [
    "null_hypothesis = \"The fuel efficiency is the same for the '99 & '08 vehicles.\"\n",
    "alternative_hypothesis = \"The fuel efficiency for '99 & '08 vehicles is different.\"\n",
    "confidence_level = .95\n",
    "a = 1 - confidence_level \n"
   ]
  },
  {
   "cell_type": "code",
   "execution_count": 14,
   "id": "f619201f",
   "metadata": {},
   "outputs": [
    {
     "data": {
      "text/plain": [
       "(0.21960177245940962, 0.8263744040323578)"
      ]
     },
     "execution_count": 14,
     "metadata": {},
     "output_type": "execute_result"
    }
   ],
   "source": [
    "t, p = stats.ttest_ind(Gas_1999, Gas_2008)\n",
    "t, p"
   ]
  },
  {
   "cell_type": "code",
   "execution_count": 15,
   "id": "563da259",
   "metadata": {},
   "outputs": [
    {
     "name": "stdout",
     "output_type": "stream",
     "text": [
      "We fail to reject the null hypothesis\n",
      "Not enough evidence to support the claim that fuel efficiency for '99 & '08 vehicles is different.\n"
     ]
    }
   ],
   "source": [
    "if p < a:\n",
    "    print(\"We reject the null hypothesis that fuel efficiency is the same for the '99 & '08 vehicles.\")\n",
    "else:\n",
    "    print(\"We fail to reject the null hypothesis\")\n",
    "    print(\"Not enough evidence to support the claim that fuel efficiency for '99 & '08 vehicles is different.\")"
   ]
  },
  {
   "cell_type": "code",
   "execution_count": 16,
   "id": "b393b74d",
   "metadata": {},
   "outputs": [
    {
     "data": {
      "text/plain": [
       "(20.22222222222222, 20.076923076923077)"
      ]
     },
     "execution_count": 16,
     "metadata": {},
     "output_type": "execute_result"
    }
   ],
   "source": [
    "Gas_1999.mean(), Gas_2008.mean()"
   ]
  },
  {
   "cell_type": "code",
   "execution_count": 17,
   "id": "5f00ae2b",
   "metadata": {},
   "outputs": [
    {
     "data": {
      "text/plain": [
       "<matplotlib.legend.Legend at 0x13031e2caf0>"
      ]
     },
     "execution_count": 17,
     "metadata": {},
     "output_type": "execute_result"
    },
    {
     "data": {
      "image/png": "[encoded data removed]",
      "text/plain": [
       "<Figure size 432x288 with 1 Axes>"
      ]
     },
     "metadata": {
      "needs_background": "light"
     },
     "output_type": "display_data"
    }
   ],
   "source": [
    "plt.hist([Gas_1999, Gas_2008], label=[\"1999 vehicles\", \"2008 vehicles\"])\n",
    "plt.legend(loc=\"upper right\")"
   ]
  },
  {
   "cell_type": "code",
   "execution_count": 18,
   "id": "10b1c8c8",
   "metadata": {},
   "outputs": [
    {
     "data": {
      "text/plain": [
       "Ttest_indResult(statistic=6.731177612837954, pvalue=1.3059121585018135e-10)"
      ]
     },
     "execution_count": 18,
     "metadata": {},
     "output_type": "execute_result"
    }
   ],
   "source": [
    "#Are compact cars more fuel-efficient than the average car?\n",
    "compact = df2[df2['class'] == 'compact'].average_gas\n",
    "not_compact = df2[df2['class'] != 'compact'].average_gas\n",
    "not_compact\n",
    "\n",
    "compact_test = stats.ttest_ind(compact, not_compact)\n",
    "compact_test"
   ]
  },
  {
   "cell_type": "code",
   "execution_count": 19,
   "id": "cb50aa47",
   "metadata": {},
   "outputs": [
    {
     "name": "stdout",
     "output_type": "stream",
     "text": [
      "We fail to reject the null hypothesis\n",
      "We don't have enough evidence to support the claim that The fuel efficiency for '99 & '08 vehicles is different.\n"
     ]
    }
   ],
   "source": [
    "if (p/2) < a and t > 0:\n",
    "    print(\"We reject the null hypothesis that there is not a difference in compact & average vehicle fuel efficiency.\")\n",
    "else:\n",
    "    print(\"We fail to reject the null hypothesis\")\n",
    "    print(\"We don't have enough evidence to support the claim that\", alternative_hypothesis)"
   ]
  },
  {
   "cell_type": "code",
   "execution_count": 20,
   "id": "70782731",
   "metadata": {},
   "outputs": [],
   "source": [
    "# Q1. Load “Cust_Churn_Telco.csv” data. Using this data answer the following questions:"
   ]
  },
  {
   "cell_type": "code",
   "execution_count": 21,
   "id": "5f5f8831",
   "metadata": {},
   "outputs": [
    {
     "data": {
      "text/html": [
       "<div>\n",
       "<style scoped>\n",
       "    .dataframe tbody tr th:only-of-type {\n",
       "        vertical-align: middle;\n",
       "    }\n",
       "\n",
       "    .dataframe tbody tr th {\n",
       "        vertical-align: top;\n",
       "    }\n",
       "\n",
       "    .dataframe thead th {\n",
       "        text-align: right;\n",
       "    }\n",
       "</style>\n",
       "<table border=\"1\" class=\"dataframe\">\n",
       "  <thead>\n",
       "    <tr style=\"text-align: right;\">\n",
       "      <th></th>\n",
       "      <th>customerID</th>\n",
       "      <th>gender</th>\n",
       "      <th>SeniorCitizen</th>\n",
       "      <th>Partner</th>\n",
       "      <th>Dependents</th>\n",
       "      <th>tenure</th>\n",
       "      <th>PhoneService</th>\n",
       "      <th>MultipleLines</th>\n",
       "      <th>InternetService</th>\n",
       "      <th>OnlineSecurity</th>\n",
       "      <th>...</th>\n",
       "      <th>DeviceProtection</th>\n",
       "      <th>TechSupport</th>\n",
       "      <th>StreamingTV</th>\n",
       "      <th>StreamingMovies</th>\n",
       "      <th>Contract</th>\n",
       "      <th>PaperlessBilling</th>\n",
       "      <th>PaymentMethod</th>\n",
       "      <th>MonthlyCharges</th>\n",
       "      <th>TotalCharges</th>\n",
       "      <th>Churn</th>\n",
       "    </tr>\n",
       "  </thead>\n",
       "  <tbody>\n",
       "    <tr>\n",
       "      <th>0</th>\n",
       "      <td>7590-VHVEG</td>\n",
       "      <td>Female</td>\n",
       "      <td>0</td>\n",
       "      <td>Yes</td>\n",
       "      <td>No</td>\n",
       "      <td>1</td>\n",
       "      <td>No</td>\n",
       "      <td>No phone service</td>\n",
       "      <td>DSL</td>\n",
       "      <td>No</td>\n",
       "      <td>...</td>\n",
       "      <td>No</td>\n",
       "      <td>No</td>\n",
       "      <td>No</td>\n",
       "      <td>No</td>\n",
       "      <td>Month-to-month</td>\n",
       "      <td>Yes</td>\n",
       "      <td>Electronic check</td>\n",
       "      <td>29.85</td>\n",
       "      <td>29.85</td>\n",
       "      <td>No</td>\n",
       "    </tr>\n",
       "    <tr>\n",
       "      <th>1</th>\n",
       "      <td>5575-GNVDE</td>\n",
       "      <td>Male</td>\n",
       "      <td>0</td>\n",
       "      <td>No</td>\n",
       "      <td>No</td>\n",
       "      <td>34</td>\n",
       "      <td>Yes</td>\n",
       "      <td>No</td>\n",
       "      <td>DSL</td>\n",
       "      <td>Yes</td>\n",
       "      <td>...</td>\n",
       "      <td>Yes</td>\n",
       "      <td>No</td>\n",
       "      <td>No</td>\n",
       "      <td>No</td>\n",
       "      <td>One year</td>\n",
       "      <td>No</td>\n",
       "      <td>Mailed check</td>\n",
       "      <td>56.95</td>\n",
       "      <td>1889.50</td>\n",
       "      <td>No</td>\n",
       "    </tr>\n",
       "    <tr>\n",
       "      <th>2</th>\n",
       "      <td>3668-QPYBK</td>\n",
       "      <td>Male</td>\n",
       "      <td>0</td>\n",
       "      <td>No</td>\n",
       "      <td>No</td>\n",
       "      <td>2</td>\n",
       "      <td>Yes</td>\n",
       "      <td>No</td>\n",
       "      <td>DSL</td>\n",
       "      <td>Yes</td>\n",
       "      <td>...</td>\n",
       "      <td>No</td>\n",
       "      <td>No</td>\n",
       "      <td>No</td>\n",
       "      <td>No</td>\n",
       "      <td>Month-to-month</td>\n",
       "      <td>Yes</td>\n",
       "      <td>Mailed check</td>\n",
       "      <td>53.85</td>\n",
       "      <td>108.15</td>\n",
       "      <td>Yes</td>\n",
       "    </tr>\n",
       "    <tr>\n",
       "      <th>3</th>\n",
       "      <td>7795-CFOCW</td>\n",
       "      <td>Male</td>\n",
       "      <td>0</td>\n",
       "      <td>No</td>\n",
       "      <td>No</td>\n",
       "      <td>45</td>\n",
       "      <td>No</td>\n",
       "      <td>No phone service</td>\n",
       "      <td>DSL</td>\n",
       "      <td>Yes</td>\n",
       "      <td>...</td>\n",
       "      <td>Yes</td>\n",
       "      <td>Yes</td>\n",
       "      <td>No</td>\n",
       "      <td>No</td>\n",
       "      <td>One year</td>\n",
       "      <td>No</td>\n",
       "      <td>Bank transfer (automatic)</td>\n",
       "      <td>42.30</td>\n",
       "      <td>1840.75</td>\n",
       "      <td>No</td>\n",
       "    </tr>\n",
       "    <tr>\n",
       "      <th>4</th>\n",
       "      <td>9237-HQITU</td>\n",
       "      <td>Female</td>\n",
       "      <td>0</td>\n",
       "      <td>No</td>\n",
       "      <td>No</td>\n",
       "      <td>2</td>\n",
       "      <td>Yes</td>\n",
       "      <td>No</td>\n",
       "      <td>Fiber optic</td>\n",
       "      <td>No</td>\n",
       "      <td>...</td>\n",
       "      <td>No</td>\n",
       "      <td>No</td>\n",
       "      <td>No</td>\n",
       "      <td>No</td>\n",
       "      <td>Month-to-month</td>\n",
       "      <td>Yes</td>\n",
       "      <td>Electronic check</td>\n",
       "      <td>70.70</td>\n",
       "      <td>151.65</td>\n",
       "      <td>Yes</td>\n",
       "    </tr>\n",
       "  </tbody>\n",
       "</table>\n",
       "<p>5 rows × 21 columns</p>\n",
       "</div>"
      ],
      "text/plain": [
       "   customerID  gender  SeniorCitizen Partner Dependents  tenure PhoneService  \\\n",
       "0  7590-VHVEG  Female              0     Yes         No       1           No   \n",
       "1  5575-GNVDE    Male              0      No         No      34          Yes   \n",
       "2  3668-QPYBK    Male              0      No         No       2          Yes   \n",
       "3  7795-CFOCW    Male              0      No         No      45           No   \n",
       "4  9237-HQITU  Female              0      No         No       2          Yes   \n",
       "\n",
       "      MultipleLines InternetService OnlineSecurity  ... DeviceProtection  \\\n",
       "0  No phone service             DSL             No  ...               No   \n",
       "1                No             DSL            Yes  ...              Yes   \n",
       "2                No             DSL            Yes  ...               No   \n",
       "3  No phone service             DSL            Yes  ...              Yes   \n",
       "4                No     Fiber optic             No  ...               No   \n",
       "\n",
       "  TechSupport StreamingTV StreamingMovies        Contract PaperlessBilling  \\\n",
       "0          No          No              No  Month-to-month              Yes   \n",
       "1          No          No              No        One year               No   \n",
       "2          No          No              No  Month-to-month              Yes   \n",
       "3         Yes          No              No        One year               No   \n",
       "4          No          No              No  Month-to-month              Yes   \n",
       "\n",
       "               PaymentMethod MonthlyCharges  TotalCharges  Churn  \n",
       "0           Electronic check          29.85         29.85     No  \n",
       "1               Mailed check          56.95       1889.50     No  \n",
       "2               Mailed check          53.85        108.15    Yes  \n",
       "3  Bank transfer (automatic)          42.30       1840.75     No  \n",
       "4           Electronic check          70.70        151.65    Yes  \n",
       "\n",
       "[5 rows x 21 columns]"
      ]
     },
     "execution_count": 21,
     "metadata": {},
     "output_type": "execute_result"
    }
   ],
   "source": [
    "telco = pd.read_csv(\"Telco_Churn.csv\")\n",
    "telco.head()"
   ]
  },
  {
   "cell_type": "code",
   "execution_count": 22,
   "id": "372ac012",
   "metadata": {},
   "outputs": [],
   "source": [
    "# Is the mean of monthly charges of customers who churn significantly higher than the mean across all customers?\n"
   ]
  },
  {
   "cell_type": "code",
   "execution_count": 23,
   "id": "566377c8",
   "metadata": {},
   "outputs": [],
   "source": [
    "curr_customer = telco[telco.Churn == \"No\"]\n",
    "churned_customer = telco[telco.Churn == \"Yes\"]"
   ]
  },
  {
   "cell_type": "code",
   "execution_count": 24,
   "id": "ee3b69ba",
   "metadata": {},
   "outputs": [
    {
     "data": {
      "text/plain": [
       "<AxesSubplot:>"
      ]
     },
     "execution_count": 24,
     "metadata": {},
     "output_type": "execute_result"
    },
    {
     "data": {
      "image/png": "[encoded data removed]",
      "text/plain": [
       "<Figure size 432x288 with 1 Axes>"
      ]
     },
     "metadata": {
      "needs_background": "light"
     },
     "output_type": "display_data"
    }
   ],
   "source": [
    "curr_customer.MonthlyCharges.hist()\n"
   ]
  },
  {
   "cell_type": "code",
   "execution_count": 25,
   "id": "8d147238",
   "metadata": {},
   "outputs": [
    {
     "data": {
      "text/plain": [
       "<AxesSubplot:>"
      ]
     },
     "execution_count": 25,
     "metadata": {},
     "output_type": "execute_result"
    },
    {
     "data": {
      "image/png": "[encoded data removed]",
      "text/plain": [
       "<Figure size 432x288 with 1 Axes>"
      ]
     },
     "metadata": {
      "needs_background": "light"
     },
     "output_type": "display_data"
    }
   ],
   "source": [
    "churned_customer.MonthlyCharges.hist()"
   ]
  },
  {
   "cell_type": "code",
   "execution_count": 26,
   "id": "98c3c5c3",
   "metadata": {},
   "outputs": [
    {
     "data": {
      "text/plain": [
       "<AxesSubplot:>"
      ]
     },
     "execution_count": 26,
     "metadata": {},
     "output_type": "execute_result"
    },
    {
     "data": {
      "image/png": "[encoded data removed]",
      "text/plain": [
       "<Figure size 432x288 with 1 Axes>"
      ]
     },
     "metadata": {
      "needs_background": "light"
     },
     "output_type": "display_data"
    }
   ],
   "source": [
    "telco.MonthlyCharges.hist()"
   ]
  },
  {
   "cell_type": "code",
   "execution_count": 27,
   "id": "20e2c87d",
   "metadata": {},
   "outputs": [],
   "source": [
    "null_hypothesis = \"No difference between churned customers' monthly charges and monthly charges across all customers.\"\n",
    "alternative_hypothesis = \"Churned customers' monthly charges were higher than monthly charges across all customers.\"\n",
    "confidence_level = .95\n",
    "a = 1 - confidence_level "
   ]
  },
  {
   "cell_type": "code",
   "execution_count": 28,
   "id": "27127627",
   "metadata": {},
   "outputs": [
    {
     "data": {
      "text/plain": [
       "(12.811618012755936, 3.0059436290936687e-37)"
      ]
     },
     "execution_count": 28,
     "metadata": {},
     "output_type": "execute_result"
    }
   ],
   "source": [
    "t, p = stats.ttest_ind(churned_customer.MonthlyCharges, telco.MonthlyCharges)\n",
    "t, p"
   ]
  },
  {
   "cell_type": "code",
   "execution_count": 29,
   "id": "4fedfaa3",
   "metadata": {},
   "outputs": [
    {
     "name": "stdout",
     "output_type": "stream",
     "text": [
      "We reject the null hypothesis that there is not a difference between churned customers' monthly charges and monthly charges across all customers.\n"
     ]
    }
   ],
   "source": [
    "if (p/2) < a and t > 0:\n",
    "    print(\"We reject the null hypothesis that there is not a difference between churned customers' monthly charges and monthly charges across all customers.\")\n",
    "else:\n",
    "    print(\"We fail to reject the null hypothesis\")\n",
    "    print(\"We don't have enough evidence to support the claim that\", alternative_hypothesis)"
   ]
  },
  {
   "cell_type": "code",
   "execution_count": 30,
   "id": "2d543f08",
   "metadata": {},
   "outputs": [],
   "source": [
    "# Is the mean of monthly charges of customers who churn significantly higher than the mean of those who don't churn?\n"
   ]
  },
  {
   "cell_type": "code",
   "execution_count": 31,
   "id": "bbfe85e5",
   "metadata": {},
   "outputs": [],
   "source": [
    "null_hypothesis = \"No difference between churned customers' monthly charges and current customers.\"\n",
    "alternative_hypothesis = \"Churned customers' monthly charges were higher than monthly charges across all customers'.\"\n",
    "confidence_level = .95\n",
    "a = 1 - confidence_level "
   ]
  },
  {
   "cell_type": "code",
   "execution_count": 32,
   "id": "2c430464",
   "metadata": {},
   "outputs": [
    {
     "data": {
      "text/plain": [
       "(16.53673801593631, 2.706645606888261e-60)"
      ]
     },
     "execution_count": 32,
     "metadata": {},
     "output_type": "execute_result"
    }
   ],
   "source": [
    "t, p = stats.ttest_ind(churned_customer.MonthlyCharges, curr_customer.MonthlyCharges)\n",
    "t, p"
   ]
  },
  {
   "cell_type": "code",
   "execution_count": 33,
   "id": "0c458f7a",
   "metadata": {},
   "outputs": [
    {
     "name": "stdout",
     "output_type": "stream",
     "text": [
      "We reject the null hypothesis that there is not a difference between churned customers' monthly charges and current customers'.\n"
     ]
    }
   ],
   "source": [
    "if (p/2) < a and t > 0:\n",
    "    print(\"We reject the null hypothesis that there is not a difference between churned customers' monthly charges and current customers'.\")\n",
    "else:\n",
    "    print(\"We fail to reject the null hypothesis\")\n",
    "    print(\"We don't have enough evidence to support the claim that\", alternative_hypothesis)"
   ]
  },
  {
   "cell_type": "code",
   "execution_count": null,
   "id": "e0406ef8",
   "metadata": {},
   "outputs": [],
   "source": []
  },
  {
   "cell_type": "code",
   "execution_count": 34,
   "id": "2644229c",
   "metadata": {},
   "outputs": [],
   "source": [
    "\n",
    "# CORRELATION EXERCISES\n",
    "# 1. Use the telco_churn data.\n",
    "# 1a. Does tenure correlate with monthly charges?"
   ]
  },
  {
   "cell_type": "code",
   "execution_count": 35,
   "id": "e132f2ce",
   "metadata": {},
   "outputs": [],
   "source": [
    "\n",
    "null_hypothesis = \"No correlation between customers' tenure and monthly charges.\"\n",
    "alternative_hypothesis = \"There IS a correlation between customers' tenure and monthly charges.\"\n",
    "confidence_level = .95\n",
    "a = 1 - confidence_level "
   ]
  },
  {
   "cell_type": "code",
   "execution_count": 36,
   "id": "81eeb82c",
   "metadata": {},
   "outputs": [
    {
     "data": {
      "text/html": [
       "<div>\n",
       "<style scoped>\n",
       "    .dataframe tbody tr th:only-of-type {\n",
       "        vertical-align: middle;\n",
       "    }\n",
       "\n",
       "    .dataframe tbody tr th {\n",
       "        vertical-align: top;\n",
       "    }\n",
       "\n",
       "    .dataframe thead th {\n",
       "        text-align: right;\n",
       "    }\n",
       "</style>\n",
       "<table border=\"1\" class=\"dataframe\">\n",
       "  <thead>\n",
       "    <tr style=\"text-align: right;\">\n",
       "      <th></th>\n",
       "      <th>customerID</th>\n",
       "      <th>gender</th>\n",
       "      <th>SeniorCitizen</th>\n",
       "      <th>Partner</th>\n",
       "      <th>Dependents</th>\n",
       "      <th>tenure</th>\n",
       "      <th>PhoneService</th>\n",
       "      <th>MultipleLines</th>\n",
       "      <th>InternetService</th>\n",
       "      <th>OnlineSecurity</th>\n",
       "      <th>...</th>\n",
       "      <th>DeviceProtection</th>\n",
       "      <th>TechSupport</th>\n",
       "      <th>StreamingTV</th>\n",
       "      <th>StreamingMovies</th>\n",
       "      <th>Contract</th>\n",
       "      <th>PaperlessBilling</th>\n",
       "      <th>PaymentMethod</th>\n",
       "      <th>MonthlyCharges</th>\n",
       "      <th>TotalCharges</th>\n",
       "      <th>Churn</th>\n",
       "    </tr>\n",
       "  </thead>\n",
       "  <tbody>\n",
       "    <tr>\n",
       "      <th>0</th>\n",
       "      <td>7590-VHVEG</td>\n",
       "      <td>Female</td>\n",
       "      <td>0</td>\n",
       "      <td>Yes</td>\n",
       "      <td>No</td>\n",
       "      <td>1</td>\n",
       "      <td>No</td>\n",
       "      <td>No phone service</td>\n",
       "      <td>DSL</td>\n",
       "      <td>No</td>\n",
       "      <td>...</td>\n",
       "      <td>No</td>\n",
       "      <td>No</td>\n",
       "      <td>No</td>\n",
       "      <td>No</td>\n",
       "      <td>Month-to-month</td>\n",
       "      <td>Yes</td>\n",
       "      <td>Electronic check</td>\n",
       "      <td>29.85</td>\n",
       "      <td>29.85</td>\n",
       "      <td>No</td>\n",
       "    </tr>\n",
       "    <tr>\n",
       "      <th>1</th>\n",
       "      <td>5575-GNVDE</td>\n",
       "      <td>Male</td>\n",
       "      <td>0</td>\n",
       "      <td>No</td>\n",
       "      <td>No</td>\n",
       "      <td>34</td>\n",
       "      <td>Yes</td>\n",
       "      <td>No</td>\n",
       "      <td>DSL</td>\n",
       "      <td>Yes</td>\n",
       "      <td>...</td>\n",
       "      <td>Yes</td>\n",
       "      <td>No</td>\n",
       "      <td>No</td>\n",
       "      <td>No</td>\n",
       "      <td>One year</td>\n",
       "      <td>No</td>\n",
       "      <td>Mailed check</td>\n",
       "      <td>56.95</td>\n",
       "      <td>1889.50</td>\n",
       "      <td>No</td>\n",
       "    </tr>\n",
       "    <tr>\n",
       "      <th>2</th>\n",
       "      <td>3668-QPYBK</td>\n",
       "      <td>Male</td>\n",
       "      <td>0</td>\n",
       "      <td>No</td>\n",
       "      <td>No</td>\n",
       "      <td>2</td>\n",
       "      <td>Yes</td>\n",
       "      <td>No</td>\n",
       "      <td>DSL</td>\n",
       "      <td>Yes</td>\n",
       "      <td>...</td>\n",
       "      <td>No</td>\n",
       "      <td>No</td>\n",
       "      <td>No</td>\n",
       "      <td>No</td>\n",
       "      <td>Month-to-month</td>\n",
       "      <td>Yes</td>\n",
       "      <td>Mailed check</td>\n",
       "      <td>53.85</td>\n",
       "      <td>108.15</td>\n",
       "      <td>Yes</td>\n",
       "    </tr>\n",
       "    <tr>\n",
       "      <th>3</th>\n",
       "      <td>7795-CFOCW</td>\n",
       "      <td>Male</td>\n",
       "      <td>0</td>\n",
       "      <td>No</td>\n",
       "      <td>No</td>\n",
       "      <td>45</td>\n",
       "      <td>No</td>\n",
       "      <td>No phone service</td>\n",
       "      <td>DSL</td>\n",
       "      <td>Yes</td>\n",
       "      <td>...</td>\n",
       "      <td>Yes</td>\n",
       "      <td>Yes</td>\n",
       "      <td>No</td>\n",
       "      <td>No</td>\n",
       "      <td>One year</td>\n",
       "      <td>No</td>\n",
       "      <td>Bank transfer (automatic)</td>\n",
       "      <td>42.30</td>\n",
       "      <td>1840.75</td>\n",
       "      <td>No</td>\n",
       "    </tr>\n",
       "    <tr>\n",
       "      <th>4</th>\n",
       "      <td>9237-HQITU</td>\n",
       "      <td>Female</td>\n",
       "      <td>0</td>\n",
       "      <td>No</td>\n",
       "      <td>No</td>\n",
       "      <td>2</td>\n",
       "      <td>Yes</td>\n",
       "      <td>No</td>\n",
       "      <td>Fiber optic</td>\n",
       "      <td>No</td>\n",
       "      <td>...</td>\n",
       "      <td>No</td>\n",
       "      <td>No</td>\n",
       "      <td>No</td>\n",
       "      <td>No</td>\n",
       "      <td>Month-to-month</td>\n",
       "      <td>Yes</td>\n",
       "      <td>Electronic check</td>\n",
       "      <td>70.70</td>\n",
       "      <td>151.65</td>\n",
       "      <td>Yes</td>\n",
       "    </tr>\n",
       "  </tbody>\n",
       "</table>\n",
       "<p>5 rows × 21 columns</p>\n",
       "</div>"
      ],
      "text/plain": [
       "   customerID  gender  SeniorCitizen Partner Dependents  tenure PhoneService  \\\n",
       "0  7590-VHVEG  Female              0     Yes         No       1           No   \n",
       "1  5575-GNVDE    Male              0      No         No      34          Yes   \n",
       "2  3668-QPYBK    Male              0      No         No       2          Yes   \n",
       "3  7795-CFOCW    Male              0      No         No      45           No   \n",
       "4  9237-HQITU  Female              0      No         No       2          Yes   \n",
       "\n",
       "      MultipleLines InternetService OnlineSecurity  ... DeviceProtection  \\\n",
       "0  No phone service             DSL             No  ...               No   \n",
       "1                No             DSL            Yes  ...              Yes   \n",
       "2                No             DSL            Yes  ...               No   \n",
       "3  No phone service             DSL            Yes  ...              Yes   \n",
       "4                No     Fiber optic             No  ...               No   \n",
       "\n",
       "  TechSupport StreamingTV StreamingMovies        Contract PaperlessBilling  \\\n",
       "0          No          No              No  Month-to-month              Yes   \n",
       "1          No          No              No        One year               No   \n",
       "2          No          No              No  Month-to-month              Yes   \n",
       "3         Yes          No              No        One year               No   \n",
       "4          No          No              No  Month-to-month              Yes   \n",
       "\n",
       "               PaymentMethod MonthlyCharges  TotalCharges  Churn  \n",
       "0           Electronic check          29.85         29.85     No  \n",
       "1               Mailed check          56.95       1889.50     No  \n",
       "2               Mailed check          53.85        108.15    Yes  \n",
       "3  Bank transfer (automatic)          42.30       1840.75     No  \n",
       "4           Electronic check          70.70        151.65    Yes  \n",
       "\n",
       "[5 rows x 21 columns]"
      ]
     },
     "execution_count": 36,
     "metadata": {},
     "output_type": "execute_result"
    }
   ],
   "source": [
    "telco.head()"
   ]
  },
  {
   "cell_type": "code",
   "execution_count": 37,
   "id": "148008d9",
   "metadata": {},
   "outputs": [],
   "source": [
    "\n",
    "# CORRELATION EXERCISES\n",
    "# 1. Use the telco_churn data.\n",
    "# 1a. Does tenure correlate with monthly charges?"
   ]
  },
  {
   "cell_type": "code",
   "execution_count": 38,
   "id": "a2c704c4",
   "metadata": {},
   "outputs": [
    {
     "data": {
      "text/plain": [
       "<matplotlib.collections.PathCollection at 0x13032106e20>"
      ]
     },
     "execution_count": 38,
     "metadata": {},
     "output_type": "execute_result"
    },
    {
     "data": {
      "image/png": "[encoded data removed]",
      "text/plain": [
       "<Figure size 432x288 with 1 Axes>"
      ]
     },
     "metadata": {
      "needs_background": "light"
     },
     "output_type": "display_data"
    }
   ],
   "source": [
    "x = telco.tenure\n",
    "y = telco.MonthlyCharges\n",
    "plt.scatter(x, y)"
   ]
  },
  {
   "cell_type": "code",
   "execution_count": 39,
   "id": "cf011980",
   "metadata": {},
   "outputs": [
    {
     "data": {
      "text/plain": [
       "(0.24789985628615252, 4.094044991483017e-99)"
      ]
     },
     "execution_count": 39,
     "metadata": {},
     "output_type": "execute_result"
    }
   ],
   "source": [
    "corr, p = stats.pearsonr(x,y)\n",
    "corr, p"
   ]
  },
  {
   "cell_type": "code",
   "execution_count": 40,
   "id": "841a3944",
   "metadata": {},
   "outputs": [
    {
     "name": "stdout",
     "output_type": "stream",
     "text": [
      "No, there is not a strong correlation between Tenure & Monthly Charges, correlation is 0.25\n"
     ]
    }
   ],
   "source": [
    "print(f\"No, there is not a strong correlation between Tenure & Monthly Charges, correlation is {round(corr, 2)}\")\n"
   ]
  },
  {
   "cell_type": "code",
   "execution_count": 41,
   "id": "13ef4e24",
   "metadata": {},
   "outputs": [
    {
     "name": "stdout",
     "output_type": "stream",
     "text": [
      "Reject null statment: No correlation between customers' tenure and monthly charges.\n",
      "There is a linear relationship.\n"
     ]
    },
    {
     "data": {
      "text/plain": [
       "(0.24789985628615252, 4.094044991483017e-99)"
      ]
     },
     "execution_count": 41,
     "metadata": {},
     "output_type": "execute_result"
    }
   ],
   "source": [
    "corr, p = stats.pearsonr(x,y)\n",
    "if p < a:\n",
    "    print(f\"Reject null statment: {null_hypothesis}\")\n",
    "    print(\"There is a linear relationship.\")\n",
    "else: \n",
    "    print(\"Fail to reject the null hypothesis.\")\n",
    "corr, p"
   ]
  },
  {
   "cell_type": "code",
   "execution_count": 42,
   "id": "c9b20e99",
   "metadata": {},
   "outputs": [],
   "source": [
    "#1b. Total charges?"
   ]
  },
  {
   "cell_type": "code",
   "execution_count": 43,
   "id": "9ef2d8d2",
   "metadata": {},
   "outputs": [
    {
     "data": {
      "text/plain": [
       "7032"
      ]
     },
     "execution_count": 43,
     "metadata": {},
     "output_type": "execute_result"
    }
   ],
   "source": [
    "totalcharges = telco.TotalCharges.dropna()\n",
    "totalcharges.count()"
   ]
  },
  {
   "cell_type": "code",
   "execution_count": 44,
   "id": "3d25be1a",
   "metadata": {},
   "outputs": [
    {
     "data": {
      "text/plain": [
       "7043"
      ]
     },
     "execution_count": 44,
     "metadata": {},
     "output_type": "execute_result"
    }
   ],
   "source": [
    "est_tenure = telco.tenure != 0\n",
    "est_tenure.count()"
   ]
  },
  {
   "cell_type": "code",
   "execution_count": 45,
   "id": "89937ada",
   "metadata": {},
   "outputs": [
    {
     "data": {
      "text/plain": [
       "customerID          7032\n",
       "gender              7032\n",
       "SeniorCitizen       7032\n",
       "Partner             7032\n",
       "Dependents          7032\n",
       "tenure              7032\n",
       "PhoneService        7032\n",
       "MultipleLines       7032\n",
       "InternetService     7032\n",
       "OnlineSecurity      7032\n",
       "OnlineBackup        7032\n",
       "DeviceProtection    7032\n",
       "TechSupport         7032\n",
       "StreamingTV         7032\n",
       "StreamingMovies     7032\n",
       "Contract            7032\n",
       "PaperlessBilling    7032\n",
       "PaymentMethod       7032\n",
       "MonthlyCharges      7032\n",
       "TotalCharges        7032\n",
       "Churn               7032\n",
       "dtype: int64"
      ]
     },
     "execution_count": 45,
     "metadata": {},
     "output_type": "execute_result"
    }
   ],
   "source": [
    "telco = telco.dropna()\n",
    "telco.count()"
   ]
  },
  {
   "cell_type": "code",
   "execution_count": 46,
   "id": "b84f99d5",
   "metadata": {},
   "outputs": [
    {
     "data": {
      "text/plain": [
       "customerID          0\n",
       "gender              0\n",
       "SeniorCitizen       0\n",
       "Partner             0\n",
       "Dependents          0\n",
       "tenure              0\n",
       "PhoneService        0\n",
       "MultipleLines       0\n",
       "InternetService     0\n",
       "OnlineSecurity      0\n",
       "OnlineBackup        0\n",
       "DeviceProtection    0\n",
       "TechSupport         0\n",
       "StreamingTV         0\n",
       "StreamingMovies     0\n",
       "Contract            0\n",
       "PaperlessBilling    0\n",
       "PaymentMethod       0\n",
       "MonthlyCharges      0\n",
       "TotalCharges        0\n",
       "Churn               0\n",
       "dtype: int64"
      ]
     },
     "execution_count": 46,
     "metadata": {},
     "output_type": "execute_result"
    }
   ],
   "source": [
    "telco.isna().sum()"
   ]
  },
  {
   "cell_type": "code",
   "execution_count": 47,
   "id": "989dbfe9",
   "metadata": {},
   "outputs": [
    {
     "data": {
      "text/html": [
       "<div>\n",
       "<style scoped>\n",
       "    .dataframe tbody tr th:only-of-type {\n",
       "        vertical-align: middle;\n",
       "    }\n",
       "\n",
       "    .dataframe tbody tr th {\n",
       "        vertical-align: top;\n",
       "    }\n",
       "\n",
       "    .dataframe thead th {\n",
       "        text-align: right;\n",
       "    }\n",
       "</style>\n",
       "<table border=\"1\" class=\"dataframe\">\n",
       "  <thead>\n",
       "    <tr style=\"text-align: right;\">\n",
       "      <th></th>\n",
       "      <th>customerID</th>\n",
       "      <th>gender</th>\n",
       "      <th>SeniorCitizen</th>\n",
       "      <th>Partner</th>\n",
       "      <th>Dependents</th>\n",
       "      <th>tenure</th>\n",
       "      <th>PhoneService</th>\n",
       "      <th>MultipleLines</th>\n",
       "      <th>InternetService</th>\n",
       "      <th>OnlineSecurity</th>\n",
       "      <th>...</th>\n",
       "      <th>DeviceProtection</th>\n",
       "      <th>TechSupport</th>\n",
       "      <th>StreamingTV</th>\n",
       "      <th>StreamingMovies</th>\n",
       "      <th>Contract</th>\n",
       "      <th>PaperlessBilling</th>\n",
       "      <th>PaymentMethod</th>\n",
       "      <th>MonthlyCharges</th>\n",
       "      <th>TotalCharges</th>\n",
       "      <th>Churn</th>\n",
       "    </tr>\n",
       "  </thead>\n",
       "  <tbody>\n",
       "    <tr>\n",
       "      <th>0</th>\n",
       "      <td>7590-VHVEG</td>\n",
       "      <td>Female</td>\n",
       "      <td>0</td>\n",
       "      <td>Yes</td>\n",
       "      <td>No</td>\n",
       "      <td>1</td>\n",
       "      <td>No</td>\n",
       "      <td>No phone service</td>\n",
       "      <td>DSL</td>\n",
       "      <td>No</td>\n",
       "      <td>...</td>\n",
       "      <td>No</td>\n",
       "      <td>No</td>\n",
       "      <td>No</td>\n",
       "      <td>No</td>\n",
       "      <td>Month-to-month</td>\n",
       "      <td>Yes</td>\n",
       "      <td>Electronic check</td>\n",
       "      <td>29.85</td>\n",
       "      <td>29.85</td>\n",
       "      <td>No</td>\n",
       "    </tr>\n",
       "    <tr>\n",
       "      <th>1</th>\n",
       "      <td>5575-GNVDE</td>\n",
       "      <td>Male</td>\n",
       "      <td>0</td>\n",
       "      <td>No</td>\n",
       "      <td>No</td>\n",
       "      <td>34</td>\n",
       "      <td>Yes</td>\n",
       "      <td>No</td>\n",
       "      <td>DSL</td>\n",
       "      <td>Yes</td>\n",
       "      <td>...</td>\n",
       "      <td>Yes</td>\n",
       "      <td>No</td>\n",
       "      <td>No</td>\n",
       "      <td>No</td>\n",
       "      <td>One year</td>\n",
       "      <td>No</td>\n",
       "      <td>Mailed check</td>\n",
       "      <td>56.95</td>\n",
       "      <td>1889.50</td>\n",
       "      <td>No</td>\n",
       "    </tr>\n",
       "    <tr>\n",
       "      <th>2</th>\n",
       "      <td>3668-QPYBK</td>\n",
       "      <td>Male</td>\n",
       "      <td>0</td>\n",
       "      <td>No</td>\n",
       "      <td>No</td>\n",
       "      <td>2</td>\n",
       "      <td>Yes</td>\n",
       "      <td>No</td>\n",
       "      <td>DSL</td>\n",
       "      <td>Yes</td>\n",
       "      <td>...</td>\n",
       "      <td>No</td>\n",
       "      <td>No</td>\n",
       "      <td>No</td>\n",
       "      <td>No</td>\n",
       "      <td>Month-to-month</td>\n",
       "      <td>Yes</td>\n",
       "      <td>Mailed check</td>\n",
       "      <td>53.85</td>\n",
       "      <td>108.15</td>\n",
       "      <td>Yes</td>\n",
       "    </tr>\n",
       "    <tr>\n",
       "      <th>3</th>\n",
       "      <td>7795-CFOCW</td>\n",
       "      <td>Male</td>\n",
       "      <td>0</td>\n",
       "      <td>No</td>\n",
       "      <td>No</td>\n",
       "      <td>45</td>\n",
       "      <td>No</td>\n",
       "      <td>No phone service</td>\n",
       "      <td>DSL</td>\n",
       "      <td>Yes</td>\n",
       "      <td>...</td>\n",
       "      <td>Yes</td>\n",
       "      <td>Yes</td>\n",
       "      <td>No</td>\n",
       "      <td>No</td>\n",
       "      <td>One year</td>\n",
       "      <td>No</td>\n",
       "      <td>Bank transfer (automatic)</td>\n",
       "      <td>42.30</td>\n",
       "      <td>1840.75</td>\n",
       "      <td>No</td>\n",
       "    </tr>\n",
       "    <tr>\n",
       "      <th>4</th>\n",
       "      <td>9237-HQITU</td>\n",
       "      <td>Female</td>\n",
       "      <td>0</td>\n",
       "      <td>No</td>\n",
       "      <td>No</td>\n",
       "      <td>2</td>\n",
       "      <td>Yes</td>\n",
       "      <td>No</td>\n",
       "      <td>Fiber optic</td>\n",
       "      <td>No</td>\n",
       "      <td>...</td>\n",
       "      <td>No</td>\n",
       "      <td>No</td>\n",
       "      <td>No</td>\n",
       "      <td>No</td>\n",
       "      <td>Month-to-month</td>\n",
       "      <td>Yes</td>\n",
       "      <td>Electronic check</td>\n",
       "      <td>70.70</td>\n",
       "      <td>151.65</td>\n",
       "      <td>Yes</td>\n",
       "    </tr>\n",
       "  </tbody>\n",
       "</table>\n",
       "<p>5 rows × 21 columns</p>\n",
       "</div>"
      ],
      "text/plain": [
       "   customerID  gender  SeniorCitizen Partner Dependents  tenure PhoneService  \\\n",
       "0  7590-VHVEG  Female              0     Yes         No       1           No   \n",
       "1  5575-GNVDE    Male              0      No         No      34          Yes   \n",
       "2  3668-QPYBK    Male              0      No         No       2          Yes   \n",
       "3  7795-CFOCW    Male              0      No         No      45           No   \n",
       "4  9237-HQITU  Female              0      No         No       2          Yes   \n",
       "\n",
       "      MultipleLines InternetService OnlineSecurity  ... DeviceProtection  \\\n",
       "0  No phone service             DSL             No  ...               No   \n",
       "1                No             DSL            Yes  ...              Yes   \n",
       "2                No             DSL            Yes  ...               No   \n",
       "3  No phone service             DSL            Yes  ...              Yes   \n",
       "4                No     Fiber optic             No  ...               No   \n",
       "\n",
       "  TechSupport StreamingTV StreamingMovies        Contract PaperlessBilling  \\\n",
       "0          No          No              No  Month-to-month              Yes   \n",
       "1          No          No              No        One year               No   \n",
       "2          No          No              No  Month-to-month              Yes   \n",
       "3         Yes          No              No        One year               No   \n",
       "4          No          No              No  Month-to-month              Yes   \n",
       "\n",
       "               PaymentMethod MonthlyCharges  TotalCharges  Churn  \n",
       "0           Electronic check          29.85         29.85     No  \n",
       "1               Mailed check          56.95       1889.50     No  \n",
       "2               Mailed check          53.85        108.15    Yes  \n",
       "3  Bank transfer (automatic)          42.30       1840.75     No  \n",
       "4           Electronic check          70.70        151.65    Yes  \n",
       "\n",
       "[5 rows x 21 columns]"
      ]
     },
     "execution_count": 47,
     "metadata": {},
     "output_type": "execute_result"
    }
   ],
   "source": [
    "telco.head()"
   ]
  },
  {
   "cell_type": "code",
   "execution_count": 48,
   "id": "4c2c40bf",
   "metadata": {},
   "outputs": [],
   "source": [
    "null_hypothesis = \"No correlation between customers' tenure and total charges.\"\n",
    "alternative_hypothesis = \"There IS a correlation between customers' tenure and total charges.\"\n",
    "confidence_level = .95\n",
    "a = 1 - confidence_level "
   ]
  },
  {
   "cell_type": "code",
   "execution_count": 49,
   "id": "fcc7d466",
   "metadata": {},
   "outputs": [
    {
     "data": {
      "text/plain": [
       "<matplotlib.collections.PathCollection at 0x13033852400>"
      ]
     },
     "execution_count": 49,
     "metadata": {},
     "output_type": "execute_result"
    },
    {
     "data": {
      "image/png": "[encoded data removed]",
      "text/plain": [
       "<Figure size 432x288 with 1 Axes>"
      ]
     },
     "metadata": {
      "needs_background": "light"
     },
     "output_type": "display_data"
    }
   ],
   "source": [
    "x1 = telco.tenure\n",
    "y1 = telco.TotalCharges\n",
    "plt.scatter(x1, y1)"
   ]
  },
  {
   "cell_type": "code",
   "execution_count": 50,
   "id": "84249588",
   "metadata": {},
   "outputs": [
    {
     "data": {
      "text/plain": [
       "(0.8258804609332093, 0.0)"
      ]
     },
     "execution_count": 50,
     "metadata": {},
     "output_type": "execute_result"
    }
   ],
   "source": [
    "corr, p = stats.pearsonr(x1, y1)\n",
    "corr, p"
   ]
  },
  {
   "cell_type": "code",
   "execution_count": 51,
   "id": "7205dc06",
   "metadata": {},
   "outputs": [
    {
     "name": "stdout",
     "output_type": "stream",
     "text": [
      "Yes, there is a positive correlation of 0.83 between tenure and total charges.\n"
     ]
    }
   ],
   "source": [
    "print(f\"Yes, there is a positive correlation of {round(corr, 2)} between tenure and total charges.\")"
   ]
  },
  {
   "cell_type": "code",
   "execution_count": 52,
   "id": "83d95b43",
   "metadata": {},
   "outputs": [
    {
     "name": "stdout",
     "output_type": "stream",
     "text": [
      "Reject null statment: No correlation between customers' tenure and total charges.\n",
      "There is a linear relationship.\n"
     ]
    },
    {
     "data": {
      "text/plain": [
       "(0.8258804609332093, 0.0)"
      ]
     },
     "execution_count": 52,
     "metadata": {},
     "output_type": "execute_result"
    }
   ],
   "source": [
    "corr, p = stats.pearsonr(x1,y1)\n",
    "if p < a:\n",
    "    print(f\"Reject null statment: {null_hypothesis}\")\n",
    "    print(\"There is a linear relationship.\")\n",
    "else: \n",
    "    print(\"Fail to reject the null hypothesis.\")\n",
    "corr, p"
   ]
  },
  {
   "cell_type": "code",
   "execution_count": 53,
   "id": "b410cbf3",
   "metadata": {},
   "outputs": [],
   "source": [
    "# 1c. What happens if you control for phone and internet service?"
   ]
  },
  {
   "cell_type": "code",
   "execution_count": 54,
   "id": "9683f4dd",
   "metadata": {},
   "outputs": [
    {
     "data": {
      "text/html": [
       "<div>\n",
       "<style scoped>\n",
       "    .dataframe tbody tr th:only-of-type {\n",
       "        vertical-align: middle;\n",
       "    }\n",
       "\n",
       "    .dataframe tbody tr th {\n",
       "        vertical-align: top;\n",
       "    }\n",
       "\n",
       "    .dataframe thead th {\n",
       "        text-align: right;\n",
       "    }\n",
       "</style>\n",
       "<table border=\"1\" class=\"dataframe\">\n",
       "  <thead>\n",
       "    <tr style=\"text-align: right;\">\n",
       "      <th></th>\n",
       "      <th>customerID</th>\n",
       "      <th>gender</th>\n",
       "      <th>SeniorCitizen</th>\n",
       "      <th>Partner</th>\n",
       "      <th>Dependents</th>\n",
       "      <th>tenure</th>\n",
       "      <th>PhoneService</th>\n",
       "      <th>MultipleLines</th>\n",
       "      <th>InternetService</th>\n",
       "      <th>OnlineSecurity</th>\n",
       "      <th>...</th>\n",
       "      <th>DeviceProtection</th>\n",
       "      <th>TechSupport</th>\n",
       "      <th>StreamingTV</th>\n",
       "      <th>StreamingMovies</th>\n",
       "      <th>Contract</th>\n",
       "      <th>PaperlessBilling</th>\n",
       "      <th>PaymentMethod</th>\n",
       "      <th>MonthlyCharges</th>\n",
       "      <th>TotalCharges</th>\n",
       "      <th>Churn</th>\n",
       "    </tr>\n",
       "  </thead>\n",
       "  <tbody>\n",
       "    <tr>\n",
       "      <th>1</th>\n",
       "      <td>5575-GNVDE</td>\n",
       "      <td>Male</td>\n",
       "      <td>0</td>\n",
       "      <td>No</td>\n",
       "      <td>No</td>\n",
       "      <td>34</td>\n",
       "      <td>Yes</td>\n",
       "      <td>No</td>\n",
       "      <td>DSL</td>\n",
       "      <td>Yes</td>\n",
       "      <td>...</td>\n",
       "      <td>Yes</td>\n",
       "      <td>No</td>\n",
       "      <td>No</td>\n",
       "      <td>No</td>\n",
       "      <td>One year</td>\n",
       "      <td>No</td>\n",
       "      <td>Mailed check</td>\n",
       "      <td>56.95</td>\n",
       "      <td>1889.50</td>\n",
       "      <td>No</td>\n",
       "    </tr>\n",
       "    <tr>\n",
       "      <th>2</th>\n",
       "      <td>3668-QPYBK</td>\n",
       "      <td>Male</td>\n",
       "      <td>0</td>\n",
       "      <td>No</td>\n",
       "      <td>No</td>\n",
       "      <td>2</td>\n",
       "      <td>Yes</td>\n",
       "      <td>No</td>\n",
       "      <td>DSL</td>\n",
       "      <td>Yes</td>\n",
       "      <td>...</td>\n",
       "      <td>No</td>\n",
       "      <td>No</td>\n",
       "      <td>No</td>\n",
       "      <td>No</td>\n",
       "      <td>Month-to-month</td>\n",
       "      <td>Yes</td>\n",
       "      <td>Mailed check</td>\n",
       "      <td>53.85</td>\n",
       "      <td>108.15</td>\n",
       "      <td>Yes</td>\n",
       "    </tr>\n",
       "    <tr>\n",
       "      <th>4</th>\n",
       "      <td>9237-HQITU</td>\n",
       "      <td>Female</td>\n",
       "      <td>0</td>\n",
       "      <td>No</td>\n",
       "      <td>No</td>\n",
       "      <td>2</td>\n",
       "      <td>Yes</td>\n",
       "      <td>No</td>\n",
       "      <td>Fiber optic</td>\n",
       "      <td>No</td>\n",
       "      <td>...</td>\n",
       "      <td>No</td>\n",
       "      <td>No</td>\n",
       "      <td>No</td>\n",
       "      <td>No</td>\n",
       "      <td>Month-to-month</td>\n",
       "      <td>Yes</td>\n",
       "      <td>Electronic check</td>\n",
       "      <td>70.70</td>\n",
       "      <td>151.65</td>\n",
       "      <td>Yes</td>\n",
       "    </tr>\n",
       "    <tr>\n",
       "      <th>5</th>\n",
       "      <td>9305-CDSKC</td>\n",
       "      <td>Female</td>\n",
       "      <td>0</td>\n",
       "      <td>No</td>\n",
       "      <td>No</td>\n",
       "      <td>8</td>\n",
       "      <td>Yes</td>\n",
       "      <td>Yes</td>\n",
       "      <td>Fiber optic</td>\n",
       "      <td>No</td>\n",
       "      <td>...</td>\n",
       "      <td>Yes</td>\n",
       "      <td>No</td>\n",
       "      <td>Yes</td>\n",
       "      <td>Yes</td>\n",
       "      <td>Month-to-month</td>\n",
       "      <td>Yes</td>\n",
       "      <td>Electronic check</td>\n",
       "      <td>99.65</td>\n",
       "      <td>820.50</td>\n",
       "      <td>Yes</td>\n",
       "    </tr>\n",
       "    <tr>\n",
       "      <th>6</th>\n",
       "      <td>1452-KIOVK</td>\n",
       "      <td>Male</td>\n",
       "      <td>0</td>\n",
       "      <td>No</td>\n",
       "      <td>Yes</td>\n",
       "      <td>22</td>\n",
       "      <td>Yes</td>\n",
       "      <td>Yes</td>\n",
       "      <td>Fiber optic</td>\n",
       "      <td>No</td>\n",
       "      <td>...</td>\n",
       "      <td>No</td>\n",
       "      <td>No</td>\n",
       "      <td>Yes</td>\n",
       "      <td>No</td>\n",
       "      <td>Month-to-month</td>\n",
       "      <td>Yes</td>\n",
       "      <td>Credit card (automatic)</td>\n",
       "      <td>89.10</td>\n",
       "      <td>1949.40</td>\n",
       "      <td>No</td>\n",
       "    </tr>\n",
       "  </tbody>\n",
       "</table>\n",
       "<p>5 rows × 21 columns</p>\n",
       "</div>"
      ],
      "text/plain": [
       "   customerID  gender  SeniorCitizen Partner Dependents  tenure PhoneService  \\\n",
       "1  5575-GNVDE    Male              0      No         No      34          Yes   \n",
       "2  3668-QPYBK    Male              0      No         No       2          Yes   \n",
       "4  9237-HQITU  Female              0      No         No       2          Yes   \n",
       "5  9305-CDSKC  Female              0      No         No       8          Yes   \n",
       "6  1452-KIOVK    Male              0      No        Yes      22          Yes   \n",
       "\n",
       "  MultipleLines InternetService OnlineSecurity  ... DeviceProtection  \\\n",
       "1            No             DSL            Yes  ...              Yes   \n",
       "2            No             DSL            Yes  ...               No   \n",
       "4            No     Fiber optic             No  ...               No   \n",
       "5           Yes     Fiber optic             No  ...              Yes   \n",
       "6           Yes     Fiber optic             No  ...               No   \n",
       "\n",
       "  TechSupport StreamingTV StreamingMovies        Contract PaperlessBilling  \\\n",
       "1          No          No              No        One year               No   \n",
       "2          No          No              No  Month-to-month              Yes   \n",
       "4          No          No              No  Month-to-month              Yes   \n",
       "5          No         Yes             Yes  Month-to-month              Yes   \n",
       "6          No         Yes              No  Month-to-month              Yes   \n",
       "\n",
       "             PaymentMethod MonthlyCharges  TotalCharges  Churn  \n",
       "1             Mailed check          56.95       1889.50     No  \n",
       "2             Mailed check          53.85        108.15    Yes  \n",
       "4         Electronic check          70.70        151.65    Yes  \n",
       "5         Electronic check          99.65        820.50    Yes  \n",
       "6  Credit card (automatic)          89.10       1949.40     No  \n",
       "\n",
       "[5 rows x 21 columns]"
      ]
     },
     "execution_count": 54,
     "metadata": {},
     "output_type": "execute_result"
    }
   ],
   "source": [
    "ph_net = telco[(telco.PhoneService == \"Yes\") & (telco.InternetService != \"No\")]\n",
    "ph_net.head()"
   ]
  },
  {
   "cell_type": "code",
   "execution_count": 55,
   "id": "c81c22cc",
   "metadata": {},
   "outputs": [
    {
     "data": {
      "text/plain": [
       "<matplotlib.collections.PathCollection at 0x130338bbd60>"
      ]
     },
     "execution_count": 55,
     "metadata": {},
     "output_type": "execute_result"
    },
    {
     "data": {
      "image/png": "[encoded data removed]",
      "text/plain": [
       "<Figure size 432x288 with 1 Axes>"
      ]
     },
     "metadata": {
      "needs_background": "light"
     },
     "output_type": "display_data"
    }
   ],
   "source": [
    "plt.scatter(ph_net.tenure, ph_net.TotalCharges)"
   ]
  },
  {
   "cell_type": "code",
   "execution_count": 56,
   "id": "5331bb51",
   "metadata": {},
   "outputs": [],
   "source": [
    "null_hypothesis = \"No correlation between phone & internet customers' tenure and total charges.\"\n",
    "alternative_hypothesis = \"There IS a correlation between phone & internet customers' tenure and total charges.\"\n",
    "confidence_level = .95\n",
    "a = 1 - confidence_level "
   ]
  },
  {
   "cell_type": "code",
   "execution_count": 58,
   "id": "94d7e0cb",
   "metadata": {},
   "outputs": [
    {
     "name": "stdout",
     "output_type": "stream",
     "text": [
      "Reject null statment: No correlation between phone & internet customers' tenure and total charges.\n",
      "There is a linear relationship.\n"
     ]
    },
    {
     "data": {
      "text/plain": [
       "(0.957922977802917, 0.0)"
      ]
     },
     "execution_count": 58,
     "metadata": {},
     "output_type": "execute_result"
    }
   ],
   "source": [
    "corr, p = stats.pearsonr(ph_net.tenure, ph_net.TotalCharges)\n",
    "if p < a:\n",
    "    print(f\"Reject null statment: {null_hypothesis}\")\n",
    "    print(\"There is a linear relationship.\")\n",
    "else: \n",
    "    print(\"Fail to reject the null hypothesis.\")\n",
    "corr, p"
   ]
  },
  {
   "cell_type": "code",
   "execution_count": 59,
   "id": "ef3726f8",
   "metadata": {},
   "outputs": [
    {
     "name": "stdout",
     "output_type": "stream",
     "text": [
      "Yes, there is a strong correlation of 0.96 between phone & internet customers and total charges.\n"
     ]
    }
   ],
   "source": [
    "print(f\"Yes, there is a strong correlation of {round(corr, 2)} between phone & internet customers and total charges.\")"
   ]
  },
  {
   "cell_type": "code",
   "execution_count": 60,
   "id": "b6d1b5da",
   "metadata": {},
   "outputs": [],
   "source": [
    "# 2. Use the employees database.\n",
    "# 2a. Is there a relationship between how long an employee has been with the company and their salary?"
   ]
  },
  {
   "cell_type": "code",
   "execution_count": 61,
   "id": "6cd16422",
   "metadata": {},
   "outputs": [],
   "source": [
    "from env import host, user, password\n",
    "\n",
    "url = f'mysql+pymysql://{user}:{password}@{host}/employees'"
   ]
  },
  {
   "cell_type": "code",
   "execution_count": 62,
   "id": "ad282147",
   "metadata": {},
   "outputs": [
    {
     "data": {
      "text/html": [
       "<div>\n",
       "<style scoped>\n",
       "    .dataframe tbody tr th:only-of-type {\n",
       "        vertical-align: middle;\n",
       "    }\n",
       "\n",
       "    .dataframe tbody tr th {\n",
       "        vertical-align: top;\n",
       "    }\n",
       "\n",
       "    .dataframe thead th {\n",
       "        text-align: right;\n",
       "    }\n",
       "</style>\n",
       "<table border=\"1\" class=\"dataframe\">\n",
       "  <thead>\n",
       "    <tr style=\"text-align: right;\">\n",
       "      <th></th>\n",
       "      <th>first_name</th>\n",
       "      <th>last_name</th>\n",
       "      <th>hire_date</th>\n",
       "      <th>salary</th>\n",
       "      <th>tenure</th>\n",
       "    </tr>\n",
       "  </thead>\n",
       "  <tbody>\n",
       "    <tr>\n",
       "      <th>0</th>\n",
       "      <td>Georgi</td>\n",
       "      <td>Facello</td>\n",
       "      <td>1986-06-26</td>\n",
       "      <td>88958</td>\n",
       "      <td>13151</td>\n",
       "    </tr>\n",
       "    <tr>\n",
       "      <th>1</th>\n",
       "      <td>Bezalel</td>\n",
       "      <td>Simmel</td>\n",
       "      <td>1985-11-21</td>\n",
       "      <td>72527</td>\n",
       "      <td>13368</td>\n",
       "    </tr>\n",
       "    <tr>\n",
       "      <th>2</th>\n",
       "      <td>Parto</td>\n",
       "      <td>Bamford</td>\n",
       "      <td>1986-08-28</td>\n",
       "      <td>43311</td>\n",
       "      <td>13088</td>\n",
       "    </tr>\n",
       "    <tr>\n",
       "      <th>3</th>\n",
       "      <td>Chirstian</td>\n",
       "      <td>Koblick</td>\n",
       "      <td>1986-12-01</td>\n",
       "      <td>74057</td>\n",
       "      <td>12993</td>\n",
       "    </tr>\n",
       "    <tr>\n",
       "      <th>4</th>\n",
       "      <td>Kyoichi</td>\n",
       "      <td>Maliniak</td>\n",
       "      <td>1989-09-12</td>\n",
       "      <td>94692</td>\n",
       "      <td>11977</td>\n",
       "    </tr>\n",
       "  </tbody>\n",
       "</table>\n",
       "</div>"
      ],
      "text/plain": [
       "  first_name last_name   hire_date  salary  tenure\n",
       "0     Georgi   Facello  1986-06-26   88958   13151\n",
       "1    Bezalel    Simmel  1985-11-21   72527   13368\n",
       "2      Parto   Bamford  1986-08-28   43311   13088\n",
       "3  Chirstian   Koblick  1986-12-01   74057   12993\n",
       "4    Kyoichi  Maliniak  1989-09-12   94692   11977"
      ]
     },
     "execution_count": 62,
     "metadata": {},
     "output_type": "execute_result"
    }
   ],
   "source": [
    "query = \"\"\"\n",
    "SELECT\tfirst_name, \n",
    "\t\tlast_name, \n",
    "\t\thire_date, \n",
    "\t\tsalary, \n",
    "\t\tDATEDIFF(NOW(), hire_date) AS \"tenure\"\n",
    "FROM salaries AS s\n",
    "    JOIN employees AS emps\n",
    "        ON emps.emp_no = s.emp_no\n",
    "WHERE s.to_date > NOW();\n",
    "\n",
    "\"\"\"\n",
    "\n",
    "\n",
    "curremp = pd.read_sql(query, url)\n",
    "curremp.head()"
   ]
  },
  {
   "cell_type": "code",
   "execution_count": 63,
   "id": "fa401f2f",
   "metadata": {},
   "outputs": [
    {
     "data": {
      "text/plain": [
       "<matplotlib.collections.PathCollection at 0x13032182400>"
      ]
     },
     "execution_count": 63,
     "metadata": {},
     "output_type": "execute_result"
    },
    {
     "data": {
      "image/png": "[encoded data removed]",
      "text/plain": [
       "<Figure size 432x288 with 1 Axes>"
      ]
     },
     "metadata": {
      "needs_background": "light"
     },
     "output_type": "display_data"
    }
   ],
   "source": [
    "plt.scatter(curremp.tenure, curremp.salary)"
   ]
  },
  {
   "cell_type": "code",
   "execution_count": 64,
   "id": "2f229957",
   "metadata": {},
   "outputs": [],
   "source": [
    "null_hypothesis = \"No correlation between employees' tenure and salary.\"\n",
    "alternative_hypothesis = \"There IS a correlation between employees' tenure and salary.\"\n",
    "confidence_level = .95\n",
    "a = 1 - confidence_level "
   ]
  },
  {
   "cell_type": "code",
   "execution_count": 65,
   "id": "963901e9",
   "metadata": {},
   "outputs": [
    {
     "name": "stdout",
     "output_type": "stream",
     "text": [
      "Reject null statment: No correlation between employees' tenure and salary.\n",
      "There is a linear relationship.\n"
     ]
    },
    {
     "data": {
      "text/plain": [
       "(0.30646256131860894, 0.0)"
      ]
     },
     "execution_count": 65,
     "metadata": {},
     "output_type": "execute_result"
    }
   ],
   "source": [
    "corr, p = stats.pearsonr(curremp.tenure, curremp.salary)\n",
    "if p < a:\n",
    "    print(f\"Reject null statment: {null_hypothesis}\")\n",
    "    print(\"There is a linear relationship.\")\n",
    "else: \n",
    "    print(\"Fail to reject the null hypothesis.\")\n",
    "corr, p"
   ]
  },
  {
   "cell_type": "code",
   "execution_count": 66,
   "id": "2ee8b9b7",
   "metadata": {},
   "outputs": [
    {
     "name": "stdout",
     "output_type": "stream",
     "text": [
      "No, there is NOT a positive correlation, but a weak correlation of 0.31 between tenure and salary.\n"
     ]
    }
   ],
   "source": [
    "\n",
    "print(f\"No, there is NOT a positive correlation, but a weak correlation of {round(corr, 2)} between tenure and salary.\")"
   ]
  },
  {
   "cell_type": "code",
   "execution_count": null,
   "id": "7f4e9a59",
   "metadata": {},
   "outputs": [],
   "source": [
    "# 2b. Is there a relationship between how long an employee has been with the company and the number of titles they have had?"
   ]
  },
  {
   "cell_type": "code",
   "execution_count": 67,
   "id": "193875c4",
   "metadata": {},
   "outputs": [
    {
     "data": {
      "text/html": [
       "<div>\n",
       "<style scoped>\n",
       "    .dataframe tbody tr th:only-of-type {\n",
       "        vertical-align: middle;\n",
       "    }\n",
       "\n",
       "    .dataframe tbody tr th {\n",
       "        vertical-align: top;\n",
       "    }\n",
       "\n",
       "    .dataframe thead th {\n",
       "        text-align: right;\n",
       "    }\n",
       "</style>\n",
       "<table border=\"1\" class=\"dataframe\">\n",
       "  <thead>\n",
       "    <tr style=\"text-align: right;\">\n",
       "      <th></th>\n",
       "      <th>first_name</th>\n",
       "      <th>last_name</th>\n",
       "      <th>num_titles</th>\n",
       "      <th>tenure</th>\n",
       "    </tr>\n",
       "  </thead>\n",
       "  <tbody>\n",
       "    <tr>\n",
       "      <th>0</th>\n",
       "      <td>Georgi</td>\n",
       "      <td>Facello</td>\n",
       "      <td>1</td>\n",
       "      <td>13151</td>\n",
       "    </tr>\n",
       "    <tr>\n",
       "      <th>1</th>\n",
       "      <td>Bezalel</td>\n",
       "      <td>Simmel</td>\n",
       "      <td>1</td>\n",
       "      <td>13368</td>\n",
       "    </tr>\n",
       "    <tr>\n",
       "      <th>2</th>\n",
       "      <td>Parto</td>\n",
       "      <td>Bamford</td>\n",
       "      <td>1</td>\n",
       "      <td>13088</td>\n",
       "    </tr>\n",
       "    <tr>\n",
       "      <th>3</th>\n",
       "      <td>Chirstian</td>\n",
       "      <td>Koblick</td>\n",
       "      <td>2</td>\n",
       "      <td>12993</td>\n",
       "    </tr>\n",
       "    <tr>\n",
       "      <th>4</th>\n",
       "      <td>Kyoichi</td>\n",
       "      <td>Maliniak</td>\n",
       "      <td>2</td>\n",
       "      <td>11977</td>\n",
       "    </tr>\n",
       "  </tbody>\n",
       "</table>\n",
       "</div>"
      ],
      "text/plain": [
       "  first_name last_name  num_titles  tenure\n",
       "0     Georgi   Facello           1   13151\n",
       "1    Bezalel    Simmel           1   13368\n",
       "2      Parto   Bamford           1   13088\n",
       "3  Chirstian   Koblick           2   12993\n",
       "4    Kyoichi  Maliniak           2   11977"
      ]
     },
     "execution_count": 67,
     "metadata": {},
     "output_type": "execute_result"
    }
   ],
   "source": [
    "query1 = \"\"\"\n",
    "SELECT first_name,\n",
    "\t\tlast_name,\n",
    "\t\tCOUNT(title) AS num_titles,\n",
    "\t\tDATEDIFF(NOW(), hire_date) AS tenure\n",
    "FROM titles AS t\n",
    "    JOIN employees AS emps\n",
    "    \tusing(emp_no)\n",
    "GROUP BY t.emp_no;\n",
    "\"\"\"\n",
    "\n",
    "temps = pd.read_sql(query1, url)\n",
    "temps.head()"
   ]
  },
  {
   "cell_type": "code",
   "execution_count": 68,
   "id": "9cd6bc3e",
   "metadata": {},
   "outputs": [
    {
     "data": {
      "text/plain": [
       "<matplotlib.collections.PathCollection at 0x130351a0910>"
      ]
     },
     "execution_count": 68,
     "metadata": {},
     "output_type": "execute_result"
    },
    {
     "data": {
      "image/png": "[encoded data removed]",
      "text/plain": [
       "<Figure size 432x288 with 1 Axes>"
      ]
     },
     "metadata": {
      "needs_background": "light"
     },
     "output_type": "display_data"
    }
   ],
   "source": [
    "plt.scatter(curremp.tenure, curremp.salary)"
   ]
  },
  {
   "cell_type": "code",
   "execution_count": 69,
   "id": "75116e72",
   "metadata": {},
   "outputs": [],
   "source": [
    "null_hypothesis = \"No correlation between employees' tenure and number of titles held.\"\n",
    "alternative_hypothesis = \"There IS a correlation between employees' tenure and number of titles held.\"\n",
    "confidence_level = .95\n",
    "a = 1 - confidence_level "
   ]
  },
  {
   "cell_type": "code",
   "execution_count": 70,
   "id": "d16913e8",
   "metadata": {},
   "outputs": [
    {
     "name": "stdout",
     "output_type": "stream",
     "text": [
      "Reject null statment: No correlation between employees' tenure and number of titles held.\n",
      "There is a linear relationship.\n"
     ]
    },
    {
     "data": {
      "text/plain": [
       "(0.30646256131860894, 0.0)"
      ]
     },
     "execution_count": 70,
     "metadata": {},
     "output_type": "execute_result"
    }
   ],
   "source": [
    "corr, p = stats.pearsonr(curremp.tenure, curremp.salary)\n",
    "if p < a:\n",
    "    print(f\"Reject null statment: {null_hypothesis}\")\n",
    "    print(\"There is a linear relationship.\")\n",
    "else: \n",
    "    print(\"Fail to reject the null hypothesis.\")\n",
    "corr, p"
   ]
  },
  {
   "cell_type": "code",
   "execution_count": 71,
   "id": "1a47e44b",
   "metadata": {},
   "outputs": [
    {
     "name": "stdout",
     "output_type": "stream",
     "text": [
      "No, there is NOT a strong, but a weak correlation of 0.31 between tenure and number of titles held.\n"
     ]
    }
   ],
   "source": [
    "print(f\"No, there is NOT a strong, but a weak correlation of {round(corr, 2)} between tenure and number of titles held.\")"
   ]
  },
  {
   "cell_type": "code",
   "execution_count": null,
   "id": "94de5ca7",
   "metadata": {},
   "outputs": [],
   "source": []
  },
  {
   "cell_type": "code",
   "execution_count": null,
   "id": "bc33c5a5",
   "metadata": {},
   "outputs": [],
   "source": [
    "# 3. Use the sleepstudy data.\n",
    "# Is there a relationship between days and reaction time?"
   ]
  },
  {
   "cell_type": "code",
   "execution_count": 72,
   "id": "1992412f",
   "metadata": {},
   "outputs": [
    {
     "name": "stderr",
     "output_type": "stream",
     "text": [
      "WARNING (aesara.configdefaults): g++ not available, if using conda: `conda install m2w64-toolchain`\n",
      "WARNING (aesara.configdefaults): g++ not detected!  Aesara will be unable to compile C-implementations and will default to Python. Performance may be severely degraded. To remove this warning, set Aesara flags cxx to an empty string.\n"
     ]
    },
    {
     "name": "stdout",
     "output_type": "stream",
     "text": [
      "Could not locate executable g77\n",
      "Could not locate executable f77\n",
      "Could not locate executable ifort\n",
      "Could not locate executable ifl\n",
      "Could not locate executable f90\n",
      "Could not locate executable DF\n",
      "Could not locate executable efl\n",
      "Could not locate executable gfortran\n",
      "Could not locate executable f95\n",
      "Could not locate executable g95\n",
      "Could not locate executable efort\n",
      "Could not locate executable efc\n",
      "Could not locate executable flang\n",
      "don't know how to compile Fortran code on platform 'nt'\n"
     ]
    },
    {
     "name": "stderr",
     "output_type": "stream",
     "text": [
      "WARNING (aesara.tensor.blas): Using NumPy C-API based implementation for BLAS functions.\n"
     ]
    },
    {
     "data": {
      "text/html": [
       "<div>\n",
       "<style scoped>\n",
       "    .dataframe tbody tr th:only-of-type {\n",
       "        vertical-align: middle;\n",
       "    }\n",
       "\n",
       "    .dataframe tbody tr th {\n",
       "        vertical-align: top;\n",
       "    }\n",
       "\n",
       "    .dataframe thead th {\n",
       "        text-align: right;\n",
       "    }\n",
       "</style>\n",
       "<table border=\"1\" class=\"dataframe\">\n",
       "  <thead>\n",
       "    <tr style=\"text-align: right;\">\n",
       "      <th></th>\n",
       "      <th>Reaction</th>\n",
       "      <th>Days</th>\n",
       "      <th>Subject</th>\n",
       "    </tr>\n",
       "  </thead>\n",
       "  <tbody>\n",
       "    <tr>\n",
       "      <th>0</th>\n",
       "      <td>249.5600</td>\n",
       "      <td>0</td>\n",
       "      <td>308</td>\n",
       "    </tr>\n",
       "    <tr>\n",
       "      <th>1</th>\n",
       "      <td>258.7047</td>\n",
       "      <td>1</td>\n",
       "      <td>308</td>\n",
       "    </tr>\n",
       "    <tr>\n",
       "      <th>2</th>\n",
       "      <td>250.8006</td>\n",
       "      <td>2</td>\n",
       "      <td>308</td>\n",
       "    </tr>\n",
       "    <tr>\n",
       "      <th>3</th>\n",
       "      <td>321.4398</td>\n",
       "      <td>3</td>\n",
       "      <td>308</td>\n",
       "    </tr>\n",
       "    <tr>\n",
       "      <th>4</th>\n",
       "      <td>356.8519</td>\n",
       "      <td>4</td>\n",
       "      <td>308</td>\n",
       "    </tr>\n",
       "    <tr>\n",
       "      <th>...</th>\n",
       "      <td>...</td>\n",
       "      <td>...</td>\n",
       "      <td>...</td>\n",
       "    </tr>\n",
       "    <tr>\n",
       "      <th>175</th>\n",
       "      <td>329.6076</td>\n",
       "      <td>5</td>\n",
       "      <td>372</td>\n",
       "    </tr>\n",
       "    <tr>\n",
       "      <th>176</th>\n",
       "      <td>334.4818</td>\n",
       "      <td>6</td>\n",
       "      <td>372</td>\n",
       "    </tr>\n",
       "    <tr>\n",
       "      <th>177</th>\n",
       "      <td>343.2199</td>\n",
       "      <td>7</td>\n",
       "      <td>372</td>\n",
       "    </tr>\n",
       "    <tr>\n",
       "      <th>178</th>\n",
       "      <td>369.1417</td>\n",
       "      <td>8</td>\n",
       "      <td>372</td>\n",
       "    </tr>\n",
       "    <tr>\n",
       "      <th>179</th>\n",
       "      <td>364.1236</td>\n",
       "      <td>9</td>\n",
       "      <td>372</td>\n",
       "    </tr>\n",
       "  </tbody>\n",
       "</table>\n",
       "<p>180 rows × 3 columns</p>\n",
       "</div>"
      ],
      "text/plain": [
       "     Reaction  Days  Subject\n",
       "0    249.5600     0      308\n",
       "1    258.7047     1      308\n",
       "2    250.8006     2      308\n",
       "3    321.4398     3      308\n",
       "4    356.8519     4      308\n",
       "..        ...   ...      ...\n",
       "175  329.6076     5      372\n",
       "176  334.4818     6      372\n",
       "177  343.2199     7      372\n",
       "178  369.1417     8      372\n",
       "179  364.1236     9      372\n",
       "\n",
       "[180 rows x 3 columns]"
      ]
     },
     "execution_count": 72,
     "metadata": {},
     "output_type": "execute_result"
    }
   ],
   "source": [
    "import bambi as bmb\n",
    "sleepdata = bmb.load_data(\"sleepstudy\")\n",
    "sleepdata"
   ]
  },
  {
   "cell_type": "code",
   "execution_count": 75,
   "id": "330cd12b",
   "metadata": {},
   "outputs": [
    {
     "data": {
      "text/plain": [
       "<matplotlib.collections.PathCollection at 0x130426b59a0>"
      ]
     },
     "execution_count": 75,
     "metadata": {},
     "output_type": "execute_result"
    },
    {
     "data": {
      "image/png": "[encoded data removed]",
      "text/plain": [
       "<Figure size 432x288 with 1 Axes>"
      ]
     },
     "metadata": {
      "needs_background": "light"
     },
     "output_type": "display_data"
    }
   ],
   "source": [
    "x3 = sleepdata.Days\n",
    "y3 = sleepdata.Reaction\n",
    "plt.scatter(x3, y3)"
   ]
  },
  {
   "cell_type": "code",
   "execution_count": 76,
   "id": "f517cd3f",
   "metadata": {},
   "outputs": [],
   "source": [
    "null_hypothesis = \"No correlation between days without sleep and reaction time.\"\n",
    "alternative_hypothesis = \"There IS a correlation between days without sleep and reaction time.\"\n",
    "confidence_level = .95\n",
    "a = 1 - confidence_level "
   ]
  },
  {
   "cell_type": "code",
   "execution_count": 77,
   "id": "e0cff5fc",
   "metadata": {},
   "outputs": [
    {
     "name": "stdout",
     "output_type": "stream",
     "text": [
      "Reject null statment: No correlation between days without sleep and reaction time.\n",
      "There is a linear relationship.\n"
     ]
    },
    {
     "data": {
      "text/plain": [
       "(0.5352302262650253, 9.894096322214812e-15)"
      ]
     },
     "execution_count": 77,
     "metadata": {},
     "output_type": "execute_result"
    }
   ],
   "source": [
    "corr, p = stats.pearsonr(x3,y3)\n",
    "if p < a:\n",
    "    print(f\"Reject null statment: {null_hypothesis}\")\n",
    "    print(\"There is a linear relationship.\")\n",
    "else: \n",
    "    print(\"Fail to reject the null hypothesis.\")\n",
    "corr, p"
   ]
  },
  {
   "cell_type": "code",
   "execution_count": 80,
   "id": "cdd0651e",
   "metadata": {},
   "outputs": [
    {
     "name": "stdout",
     "output_type": "stream",
     "text": [
      "There is a weak correlation of 0.54 between days without sleep and reaction time.\n"
     ]
    }
   ],
   "source": [
    "print(f\"There is a weak correlation of {round(corr, 2)} between days without sleep and reaction time.\")"
   ]
  },
  {
   "cell_type": "code",
   "execution_count": null,
   "id": "8c1b459d",
   "metadata": {},
   "outputs": [],
   "source": []
  },
  {
   "cell_type": "code",
   "execution_count": null,
   "id": "4b8cb948",
   "metadata": {},
   "outputs": [],
   "source": []
  },
  {
   "cell_type": "code",
   "execution_count": null,
   "id": "80642b52",
   "metadata": {},
   "outputs": [],
   "source": [
    "# # Use the telco_churn data. Does tenure correlate with monthly charges? Total charges? \n",
    "# # What happens if you control for phone and internet service?\n",
    "\n",
    "\n",
    "\n",
    "\n",
    "# def get_db_url(username, hostname, password, db_name):\n",
    "#     return f'mysql+pymysql://{username}:{password}@{hostname}/{db_name}'\n",
    "\n",
    "# query = '''\n",
    "#     select tenure, monthly_charges from customers\n",
    "# '''\n",
    "\n",
    "# url = get_db_url(user,host,password,'telco_churn')\n",
    "# charges = pd.read_sql(query,url)\n",
    "# x = charges.tenure\n",
    "# y = charges.monthly_charges\n",
    "\n",
    "# stats.pearsonr(x,y)"
   ]
  },
  {
   "cell_type": "code",
   "execution_count": null,
   "id": "276b4643",
   "metadata": {},
   "outputs": [],
   "source": [
    "# # Total charges?\n",
    "\n",
    "# charges = pd.read_csv('telco_churn.csv', index_col=0)\n",
    "\n",
    "# charges\n",
    "# charges.dtypes\n",
    "# charges.dtypes\n",
    "# charges.total_charges.fillna(0, inplace = True)\n",
    "# charges.Tenure_2.fillna(0, inplace = True)\n",
    "# charges[charges.total_charges.isnull() == True]\n",
    "\n",
    "# x = charges.Tenure_2\n",
    "\n",
    "# y = charges.total_charges\n",
    "\n",
    "\n",
    "# stats.pearsonr(x, y)"
   ]
  },
  {
   "cell_type": "code",
   "execution_count": null,
   "id": "e0a9d6cb",
   "metadata": {},
   "outputs": [],
   "source": []
  },
  {
   "cell_type": "code",
   "execution_count": null,
   "id": "1b84ee76",
   "metadata": {},
   "outputs": [],
   "source": []
  },
  {
   "cell_type": "code",
   "execution_count": null,
   "id": "ee8be6af",
   "metadata": {},
   "outputs": [],
   "source": []
  },
  {
   "cell_type": "code",
   "execution_count": null,
   "id": "daf67ca1",
   "metadata": {},
   "outputs": [],
   "source": []
  },
  {
   "cell_type": "code",
   "execution_count": null,
   "id": "4fce9539",
   "metadata": {},
   "outputs": [],
   "source": []
  },
  {
   "cell_type": "code",
   "execution_count": null,
   "id": "486cc27d",
   "metadata": {},
   "outputs": [],
   "source": []
  },
  {
   "cell_type": "code",
   "execution_count": null,
   "id": "40bc9c58",
   "metadata": {},
   "outputs": [],
   "source": []
  }
 ],
 "metadata": {
  "kernelspec": {
   "display_name": "Python 3 (ipykernel)",
   "language": "python",
   "name": "python3"
  },
  "language_info": {
   "codemirror_mode": {
    "name": "ipython",
    "version": 3
   },
   "file_extension": ".py",
   "mimetype": "text/x-python",
   "name": "python",
   "nbconvert_exporter": "python",
   "pygments_lexer": "ipython3",
   "version": "3.9.12"
  }
 },
 "nbformat": 4,
 "nbformat_minor": 5
}
