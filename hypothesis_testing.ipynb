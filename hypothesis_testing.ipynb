{
 "cells": [
  {
   "cell_type": "code",
   "execution_count": null,
   "id": "c518182c",
   "metadata": {},
   "outputs": [],
   "source": [
    "# Do your work for this exercise in a jupyter notebook named hypothesis_testing.ipynb.\n",
    "\n",
    "# For each of the following questions, formulate a null and alternative hypothesis (be as specific as you can be), then give an example of what a true positive, true negative, type I and type II errors would look like. Note that some of the questions are intentionally phrased in a vague way. It is your job to reword these as more precise questions that could be tested.\n",
    "\n",
    "# Has the network latency gone up since we switched internet service providers?\n",
    "# Is the website redesign any good?\n",
    "# Is our television ad driving more sales?"
   ]
  },
  {
   "cell_type": "code",
   "execution_count": 2,
   "id": "95dfa74f",
   "metadata": {},
   "outputs": [],
   "source": [
    "# Ho: Latency hasn't changed or is less than that before the switch of isp\n",
    "\n",
    "# Ha: Latency has gone up after the switch\n",
    "\n",
    "\n",
    "# True Positive\n",
    "\n",
    "# low p-value\n",
    "# Ho is false, reject Ho, latency has gone up\n",
    "# avg latency after the switch is higher than the average latency before the switch\n",
    "\n",
    "\n",
    "# False Positive\n",
    "\n",
    "# low p-value\n",
    "# Ho is false, reject Ho\n",
    "# a significant difference found in latency prior to and after\n",
    "# we found the latency prior was lower than our measured, external factors impact latency\n",
    "# server crash, downloads, many users etc\n",
    "\n",
    "# False Negative\n",
    "\n",
    "# Ho is true , failed to reject\n",
    "# high p-value\n",
    "# we found the latency to be equal, sampling bias, technology, time of day of test\n",
    "\n",
    "    \n",
    "# # True Negative\n",
    "# high p-value\n",
    "# Ho is true, failed to reject\n",
    "# Latency has stayed the same or gone down"
   ]
  },
  {
   "cell_type": "code",
   "execution_count": null,
   "id": "4aea53b5",
   "metadata": {},
   "outputs": [],
   "source": [
    "# Is the website redesign any good?\n",
    "\n",
    "# Ho: Traffic has stayed the same or got worse\n",
    "\n",
    "# Ha: Traffic has statistically increased significantly\n",
    "\n",
    "\n",
    "# True Positive\n",
    "\n",
    "# low p-value\n",
    "# Ho is rejected and false, \n",
    "# Traffic has statistically increased significantly\n",
    "\n",
    "\n",
    "\n",
    "# False Positive\n",
    "\n",
    "# low p-value\n",
    "# Ho is rejected and true \n",
    "# traffic increased, due to external factors, holiday season\n",
    "\n",
    "\n",
    "# False Negative\n",
    "\n",
    "# Ho is accepted\n",
    "# high p-value\n",
    "# traffic looked like it stayed the same, sample size\n",
    "\n",
    "    \n",
    "# # True Negative\n",
    "# high p-value\n",
    "# Ho is true, failed to be rejected\n",
    "# traffic stayed the same or went down, bad design"
   ]
  },
  {
   "cell_type": "code",
   "execution_count": null,
   "id": "92dba786",
   "metadata": {},
   "outputs": [],
   "source": [
    "# Is our television ad driving more sales?\n",
    "\n",
    "# Ho: sales have remained the same or decreased\n",
    "\n",
    "# Ha: sales have statistically increased, significantly\n",
    "\n",
    "\n",
    "# True Positive\n",
    "\n",
    "# low p-value\n",
    "# Ho is rejected and false\n",
    "# sales has statistically increased, significantly\n",
    "\n",
    "\n",
    "\n",
    "# False Positive\n",
    "\n",
    "# low p-value\n",
    "# Ho is rejected and true \n",
    "# sales increased, due to external factors\n",
    "\n",
    "\n",
    "# False Negative\n",
    "\n",
    "# Ho is accepted\n",
    "# high p-value\n",
    "# sales looked like it stayed the same, but they didnt, sample size\n",
    "\n",
    "    \n",
    "# # True Negative\n",
    "# high p-value\n",
    "# Ho is true, failed to be rejected\n",
    "# sales stayed the same, tv ad was a flop"
   ]
  },
  {
   "cell_type": "code",
   "execution_count": null,
   "id": "c5dbea9d",
   "metadata": {},
   "outputs": [],
   "source": []
  },
  {
   "cell_type": "code",
   "execution_count": 3,
   "id": "1d106f93",
   "metadata": {},
   "outputs": [],
   "source": [
    " %matplotlib inline\n",
    "import numpy as np\n",
    "import pandas as pd\n",
    "import matplotlib.pyplot as plt\n",
    "from env import user, host, password\n",
    "from scipy import stats\n",
    "import csv\n",
    "\n",
    "np.random.seed(29)"
   ]
  },
  {
   "cell_type": "code",
   "execution_count": null,
   "id": "208f32f3",
   "metadata": {},
   "outputs": [],
   "source": [
    "# Ace Realty wants to determine whether the average time it takes to sell homes is different for its two offices.\n",
    "# A sample of 40 sales from office #1 revealed a mean of 90 days and a standard deviation of 15 days.\n",
    "# A sample of 50 sales from office #2 revealed a mean of 100 days and a standard deviation of 20 days.\n",
    "# Use a .05 level of significance."
   ]
  },
  {
   "cell_type": "code",
   "execution_count": 4,
   "id": "b09d18d7",
   "metadata": {},
   "outputs": [
    {
     "data": {
      "text/plain": [
       "Ttest_indResult(statistic=-0.9818269584843405, pvalue=0.32887677054120024)"
      ]
     },
     "execution_count": 4,
     "metadata": {},
     "output_type": "execute_result"
    }
   ],
   "source": [
    "sample_1 = stats.norm(90, 15).rvs(40)\n",
    "sample_2 = stats.norm(100, 20).rvs(50)\n",
    "\n",
    "stats.ttest_ind(sample_1,sample_2)\n",
    "\n",
    "# Average time is different, p-value of 0.0015"
   ]
  },
  {
   "cell_type": "code",
   "execution_count": null,
   "id": "e9136d54",
   "metadata": {},
   "outputs": [],
   "source": []
  },
  {
   "cell_type": "code",
   "execution_count": 16,
   "id": "42c744d6",
   "metadata": {},
   "outputs": [
    {
     "data": {
      "text/plain": [
       "Ttest_indResult(statistic=0.21960177245940962, pvalue=0.8263744040323578)"
      ]
     },
     "execution_count": 16,
     "metadata": {},
     "output_type": "execute_result"
    }
   ],
   "source": [
    "from pydataset import data\n",
    "\n",
    "data = data('mpg')\n",
    "\n",
    "df = pd.DataFrame(data)\n",
    "\n",
    "df2 = df.assign(average_gas = (df.cty + df.hwy)/2)\n",
    "Gas_1999 = df2[df2.year == 1999].average_gas\n",
    "Gas_2008 = df2[df2.year == 2008].average_gas\n",
    "\n",
    "stats.ttest_ind(Gas_1999, Gas_2008)"
   ]
  },
  {
   "cell_type": "code",
   "execution_count": 22,
   "id": "d65bea24",
   "metadata": {},
   "outputs": [
    {
     "data": {
      "text/plain": [
       "<AxesSubplot:>"
      ]
     },
     "execution_count": 22,
     "metadata": {},
     "output_type": "execute_result"
    },
    {
     "data": {
      "image/png": "[encoded data removed]",
      "text/plain": [
       "<Figure size 432x288 with 1 Axes>"
      ]
     },
     "metadata": {
      "needs_background": "light"
     },
     "output_type": "display_data"
    }
   ],
   "source": [
    "Gas_1999.hist()"
   ]
  },
  {
   "cell_type": "code",
   "execution_count": 21,
   "id": "8a87f029",
   "metadata": {
    "scrolled": true
   },
   "outputs": [
    {
     "data": {
      "text/plain": [
       "<AxesSubplot:>"
      ]
     },
     "execution_count": 21,
     "metadata": {},
     "output_type": "execute_result"
    },
    {
     "data": {
      "image/png": "[encoded data removed]",
      "text/plain": [
       "<Figure size 432x288 with 1 Axes>"
      ]
     },
     "metadata": {
      "needs_background": "light"
     },
     "output_type": "display_data"
    }
   ],
   "source": [
    "Gas_2008.hist()"
   ]
  },
  {
   "cell_type": "code",
   "execution_count": 18,
   "id": "c4942245",
   "metadata": {},
   "outputs": [
    {
     "data": {
      "text/plain": [
       "Ttest_indResult(statistic=6.731177612837954, pvalue=1.3059121585018135e-10)"
      ]
     },
     "execution_count": 18,
     "metadata": {},
     "output_type": "execute_result"
    }
   ],
   "source": [
    "compact = df2[df2['class'] == 'compact'].average_gas\n",
    "not_compact = df2[df2['class'] != 'compact'].average_gas\n",
    "not_compact\n",
    "\n",
    "compact_test = stats.ttest_ind(compact, not_compact)\n",
    "compact_test"
   ]
  },
  {
   "cell_type": "code",
   "execution_count": 6,
   "id": "bbe1e0a0",
   "metadata": {},
   "outputs": [
    {
     "data": {
      "text/plain": [
       "(-0.7985239689348549, 4.737914890206176e-53)"
      ]
     },
     "execution_count": 6,
     "metadata": {},
     "output_type": "execute_result"
    }
   ],
   "source": [
    "x = data.displ\n",
    "y = data.cty\n",
    "\n",
    "stats.pearsonr(x,y)"
   ]
  },
  {
   "cell_type": "code",
   "execution_count": 7,
   "id": "80642b52",
   "metadata": {},
   "outputs": [
    {
     "data": {
      "text/plain": [
       "(0.24789985628615263, 4.0940449914811555e-99)"
      ]
     },
     "execution_count": 7,
     "metadata": {},
     "output_type": "execute_result"
    }
   ],
   "source": [
    "# Use the telco_churn data. Does tenure correlate with monthly charges? Total charges? \n",
    "# What happens if you control for phone and internet service?\n",
    "\n",
    "\n",
    "\n",
    "\n",
    "def get_db_url(username, hostname, password, db_name):\n",
    "    return f'mysql+pymysql://{username}:{password}@{hostname}/{db_name}'\n",
    "\n",
    "query = '''\n",
    "    select tenure, monthly_charges from customers\n",
    "'''\n",
    "\n",
    "url = get_db_url(user,host,password,'telco_churn')\n",
    "charges = pd.read_sql(query,url)\n",
    "x = charges.tenure\n",
    "y = charges.monthly_charges\n",
    "\n",
    "stats.pearsonr(x,y)"
   ]
  },
  {
   "cell_type": "code",
   "execution_count": 14,
   "id": "276b4643",
   "metadata": {},
   "outputs": [
    {
     "ename": "AttributeError",
     "evalue": "'DataFrame' object has no attribute 'total_charges'",
     "output_type": "error",
     "traceback": [
      "\u001b[1;31m---------------------------------------------------------------------------\u001b[0m",
      "\u001b[1;31mAttributeError\u001b[0m                            Traceback (most recent call last)",
      "Input \u001b[1;32mIn [14]\u001b[0m, in \u001b[0;36m<cell line: 8>\u001b[1;34m()\u001b[0m\n\u001b[0;32m      6\u001b[0m charges\u001b[38;5;241m.\u001b[39mdtypes\n\u001b[0;32m      7\u001b[0m charges\u001b[38;5;241m.\u001b[39mdtypes\n\u001b[1;32m----> 8\u001b[0m \u001b[43mcharges\u001b[49m\u001b[38;5;241;43m.\u001b[39;49m\u001b[43mtotal_charges\u001b[49m\u001b[38;5;241m.\u001b[39mfillna(\u001b[38;5;241m0\u001b[39m, inplace \u001b[38;5;241m=\u001b[39m \u001b[38;5;28;01mTrue\u001b[39;00m)\n\u001b[0;32m      9\u001b[0m charges\u001b[38;5;241m.\u001b[39mTenure_2\u001b[38;5;241m.\u001b[39mfillna(\u001b[38;5;241m0\u001b[39m, inplace \u001b[38;5;241m=\u001b[39m \u001b[38;5;28;01mTrue\u001b[39;00m)\n\u001b[0;32m     10\u001b[0m charges[charges\u001b[38;5;241m.\u001b[39mtotal_charges\u001b[38;5;241m.\u001b[39misnull() \u001b[38;5;241m==\u001b[39m \u001b[38;5;28;01mTrue\u001b[39;00m]\n",
      "File \u001b[1;32m~\\anaconda3\\lib\\site-packages\\pandas\\core\\generic.py:5575\u001b[0m, in \u001b[0;36mNDFrame.__getattr__\u001b[1;34m(self, name)\u001b[0m\n\u001b[0;32m   5568\u001b[0m \u001b[38;5;28;01mif\u001b[39;00m (\n\u001b[0;32m   5569\u001b[0m     name \u001b[38;5;129;01mnot\u001b[39;00m \u001b[38;5;129;01min\u001b[39;00m \u001b[38;5;28mself\u001b[39m\u001b[38;5;241m.\u001b[39m_internal_names_set\n\u001b[0;32m   5570\u001b[0m     \u001b[38;5;129;01mand\u001b[39;00m name \u001b[38;5;129;01mnot\u001b[39;00m \u001b[38;5;129;01min\u001b[39;00m \u001b[38;5;28mself\u001b[39m\u001b[38;5;241m.\u001b[39m_metadata\n\u001b[0;32m   5571\u001b[0m     \u001b[38;5;129;01mand\u001b[39;00m name \u001b[38;5;129;01mnot\u001b[39;00m \u001b[38;5;129;01min\u001b[39;00m \u001b[38;5;28mself\u001b[39m\u001b[38;5;241m.\u001b[39m_accessors\n\u001b[0;32m   5572\u001b[0m     \u001b[38;5;129;01mand\u001b[39;00m \u001b[38;5;28mself\u001b[39m\u001b[38;5;241m.\u001b[39m_info_axis\u001b[38;5;241m.\u001b[39m_can_hold_identifiers_and_holds_name(name)\n\u001b[0;32m   5573\u001b[0m ):\n\u001b[0;32m   5574\u001b[0m     \u001b[38;5;28;01mreturn\u001b[39;00m \u001b[38;5;28mself\u001b[39m[name]\n\u001b[1;32m-> 5575\u001b[0m \u001b[38;5;28;01mreturn\u001b[39;00m \u001b[38;5;28;43mobject\u001b[39;49m\u001b[38;5;241;43m.\u001b[39;49m\u001b[38;5;21;43m__getattribute__\u001b[39;49m\u001b[43m(\u001b[49m\u001b[38;5;28;43mself\u001b[39;49m\u001b[43m,\u001b[49m\u001b[43m \u001b[49m\u001b[43mname\u001b[49m\u001b[43m)\u001b[49m\n",
      "\u001b[1;31mAttributeError\u001b[0m: 'DataFrame' object has no attribute 'total_charges'"
     ]
    }
   ],
   "source": [
    "# Total charges?\n",
    "\n",
    "charges = pd.read_csv('telco_churn.csv', index_col=0)\n",
    "\n",
    "charges\n",
    "charges.dtypes\n",
    "charges.dtypes\n",
    "charges.total_charges.fillna(0, inplace = True)\n",
    "charges.Tenure_2.fillna(0, inplace = True)\n",
    "charges[charges.total_charges.isnull() == True]\n",
    "\n",
    "x = charges.Tenure_2\n",
    "\n",
    "y = charges.total_charges\n",
    "\n",
    "\n",
    "stats.pearsonr(x, y)"
   ]
  },
  {
   "cell_type": "code",
   "execution_count": null,
   "id": "e0a9d6cb",
   "metadata": {},
   "outputs": [],
   "source": []
  },
  {
   "cell_type": "code",
   "execution_count": null,
   "id": "1b84ee76",
   "metadata": {},
   "outputs": [],
   "source": []
  },
  {
   "cell_type": "code",
   "execution_count": null,
   "id": "ee8be6af",
   "metadata": {},
   "outputs": [],
   "source": []
  },
  {
   "cell_type": "code",
   "execution_count": null,
   "id": "daf67ca1",
   "metadata": {},
   "outputs": [],
   "source": []
  },
  {
   "cell_type": "code",
   "execution_count": null,
   "id": "4fce9539",
   "metadata": {},
   "outputs": [],
   "source": []
  },
  {
   "cell_type": "code",
   "execution_count": null,
   "id": "486cc27d",
   "metadata": {},
   "outputs": [],
   "source": []
  },
  {
   "cell_type": "code",
   "execution_count": null,
   "id": "40bc9c58",
   "metadata": {},
   "outputs": [],
   "source": []
  }
 ],
 "metadata": {
  "kernelspec": {
   "display_name": "Python 3 (ipykernel)",
   "language": "python",
   "name": "python3"
  },
  "language_info": {
   "codemirror_mode": {
    "name": "ipython",
    "version": 3
   },
   "file_extension": ".py",
   "mimetype": "text/x-python",
   "name": "python",
   "nbconvert_exporter": "python",
   "pygments_lexer": "ipython3",
   "version": "3.9.12"
  }
 },
 "nbformat": 4,
 "nbformat_minor": 5
}
