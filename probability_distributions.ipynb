{
 "cells": [
  {
   "cell_type": "code",
   "execution_count": 3,
   "id": "72fd4a17",
   "metadata": {},
   "outputs": [],
   "source": [
    "import matplotlib.pyplot as plt\n",
    "import numpy as np\n",
    "import seaborn as sns\n",
    "from scipy import stats\n",
    "np.random.seed(123)\n",
    "import pandas as pd"
   ]
  },
  {
   "cell_type": "code",
   "execution_count": null,
   "id": "602957ae",
   "metadata": {},
   "outputs": [],
   "source": [
    "# A bank found that the average number of cars waiting during the noon hour at a drive-up \n",
    "# window follows a Poisson distribution with a mean of 2 cars. Make a chart of this \n",
    "# distribution and answer these questions concerning the probability of cars waiting\n",
    "# at the drive-up window.\n",
    "\n",
    "# What is the probability that no cars drive up in the noon hour?\n",
    "# What is the probability that 3 or more cars come through the drive through?\n",
    "# How likely is it that the drive through gets at least 1 car?"
   ]
  },
  {
   "cell_type": "code",
   "execution_count": 22,
   "id": "0db51ef2",
   "metadata": {},
   "outputs": [
    {
     "data": {
      "image/png": "[encoded data removed]",
      "text/plain": [
       "<Figure size 648x432 with 1 Axes>"
      ]
     },
     "metadata": {
      "needs_background": "light"
     },
     "output_type": "display_data"
    }
   ],
   "source": [
    "cars=stats.poisson(2)\n",
    "λ=2\n",
    "x= np.arange(0,10)\n",
    "y=stats.poisson(λ).pmf(x)\n",
    "plt.bar(x,y)\n",
    "plt.xlabel('Cars per hour')\n",
    "plt.ylabel('P(X)')\n",
    "plt.title('Poisson distribution $λ = 2$');\n",
    "\n"
   ]
  },
  {
   "cell_type": "code",
   "execution_count": 23,
   "id": "23d025da",
   "metadata": {},
   "outputs": [
    {
     "data": {
      "text/plain": [
       "0.1353352832366127"
      ]
     },
     "execution_count": 23,
     "metadata": {},
     "output_type": "execute_result"
    }
   ],
   "source": [
    "# What is the probability that no cars drive up in the noon hour?\n",
    "cars.pmf(0)"
   ]
  },
  {
   "cell_type": "code",
   "execution_count": 24,
   "id": "5f038d26",
   "metadata": {},
   "outputs": [
    {
     "data": {
      "text/plain": [
       "0.32332358381693654"
      ]
     },
     "execution_count": 24,
     "metadata": {},
     "output_type": "execute_result"
    }
   ],
   "source": [
    "# What is the probability that 3 or more cars come through the drive through?\n",
    "cars.sf(2)"
   ]
  },
  {
   "cell_type": "code",
   "execution_count": 26,
   "id": "965a1847",
   "metadata": {},
   "outputs": [
    {
     "data": {
      "text/plain": [
       "0.40600584970983794"
      ]
     },
     "execution_count": 26,
     "metadata": {},
     "output_type": "execute_result"
    }
   ],
   "source": [
    "# How likely is it that the drive through gets at least 1 car?\n",
    "cars.cdf(1)"
   ]
  },
  {
   "cell_type": "code",
   "execution_count": null,
   "id": "b661684d",
   "metadata": {},
   "outputs": [],
   "source": [
    "# Grades of State University graduates are normally distributed with a mean of 3.0 and a \n",
    "# standard deviation of .3. Calculate the following:\n",
    "\n",
    "# What grade point average is required to be in the top 5% of the graduating class?\n",
    "# What GPA constitutes the bottom 15% of the class?\n",
    "# An eccentric alumnus left scholarship money for students in the third decile from the \n",
    "# bottom of their class. Determine the range of the third decile. Would a student with a \n",
    "# 2.8 grade point average qualify for this scholarship?\n",
    "# If I have a GPA of 3.5, what percentile am I in?"
   ]
  },
  {
   "cell_type": "code",
   "execution_count": 29,
   "id": "207891fe",
   "metadata": {},
   "outputs": [
    {
     "data": {
      "text/plain": [
       "<scipy.stats._distn_infrastructure.rv_frozen at 0x159fdf40490>"
      ]
     },
     "execution_count": 29,
     "metadata": {},
     "output_type": "execute_result"
    }
   ],
   "source": [
    "μ = 3\n",
    "σ = .3\n",
    "\n",
    "grades = stats.norm(μ, σ)\n",
    "grades"
   ]
  },
  {
   "cell_type": "code",
   "execution_count": 32,
   "id": "15df9750",
   "metadata": {},
   "outputs": [
    {
     "data": {
      "text/plain": [
       "3.4934560880854417"
      ]
     },
     "execution_count": 32,
     "metadata": {},
     "output_type": "execute_result"
    }
   ],
   "source": [
    "# What grade point average is required to be in the top 5% of the graduating class?\n",
    "top_5 = grades.ppf(.95)\n",
    "top_5"
   ]
  },
  {
   "cell_type": "code",
   "execution_count": 34,
   "id": "bd94d1f5",
   "metadata": {},
   "outputs": [
    {
     "data": {
      "text/plain": [
       "2.689069983151863"
      ]
     },
     "execution_count": 34,
     "metadata": {},
     "output_type": "execute_result"
    }
   ],
   "source": [
    "# What GPA constitutes the bottom 15% of the class?\n",
    "bottom_15 = grades.ppf(.15)\n",
    "bottom_15"
   ]
  },
  {
   "cell_type": "code",
   "execution_count": 37,
   "id": "7686aaaa",
   "metadata": {},
   "outputs": [
    {
     "data": {
      "text/plain": [
       "2.842679846187588"
      ]
     },
     "execution_count": 37,
     "metadata": {},
     "output_type": "execute_result"
    }
   ],
   "source": [
    "# An eccentric alumnus left scholarship money for students in the third decile from the \n",
    "# bottom of their class. Determine the range of the third decile. Would a student with a \n",
    "# 2.8 grade point average qualify for this scholarship?\n",
    "third_decile = grades.ppf(.3)\n",
    "third_decile\n",
    "#2.84 > 2.8 not qualify"
   ]
  },
  {
   "cell_type": "code",
   "execution_count": 40,
   "id": "0f93515f",
   "metadata": {},
   "outputs": [
    {
     "data": {
      "text/plain": [
       "0.9522096477271853"
      ]
     },
     "execution_count": 40,
     "metadata": {},
     "output_type": "execute_result"
    }
   ],
   "source": [
    "# If I have a GPA of 3.5, what percentile am I in?\n",
    "grades.cdf(3.5)"
   ]
  },
  {
   "cell_type": "code",
   "execution_count": null,
   "id": "0f57b3d2",
   "metadata": {},
   "outputs": [],
   "source": [
    "# A marketing website has an average click-through rate of 2%. One day they observe 4326 \n",
    "# visitors and 97 click-throughs. How likely is it that this many people or more click through?"
   ]
  },
  {
   "cell_type": "code",
   "execution_count": 42,
   "id": "7a15b907",
   "metadata": {},
   "outputs": [],
   "source": [
    "traffic = stats.binom(4326, .02)"
   ]
  },
  {
   "cell_type": "code",
   "execution_count": 43,
   "id": "664df80b",
   "metadata": {},
   "outputs": [
    {
     "data": {
      "text/plain": [
       "0.13975823631416445"
      ]
     },
     "execution_count": 43,
     "metadata": {},
     "output_type": "execute_result"
    }
   ],
   "source": [
    "clicks = traffic.sf(96)       \n",
    "\n",
    "clicks"
   ]
  },
  {
   "cell_type": "code",
   "execution_count": null,
   "id": "d87e8875",
   "metadata": {},
   "outputs": [],
   "source": [
    "# You are working on some statistics homework consisting of 100 questions where all of \n",
    "# the answers are a probability rounded to the hundreths place. Looking to save time, you \n",
    "# put down random probabilities as the answer to each question.\n",
    "\n",
    "# What is the probability that at least one of your first 60 answers is correct?"
   ]
  },
  {
   "cell_type": "code",
   "execution_count": 44,
   "id": "4883895e",
   "metadata": {},
   "outputs": [
    {
     "data": {
      "text/plain": [
       "0.45284335760923855"
      ]
     },
     "execution_count": 44,
     "metadata": {},
     "output_type": "execute_result"
    }
   ],
   "source": [
    "homework = stats.binom(60, .01).sf(0)\n",
    "\n",
    "homework"
   ]
  },
  {
   "cell_type": "code",
   "execution_count": 49,
   "id": "875328e6",
   "metadata": {},
   "outputs": [],
   "source": [
    "# The codeup staff tends to get upset when the student break area is not cleaned up. \n",
    "# Suppose that there's a 3% chance that any one student cleans the break area when they \n",
    "# visit it, and, on any given day, about 90% of the 3 active cohorts of 22 students visit \n",
    "# the break area. How likely is it that the break area gets cleaned up each day? How likely \n",
    "# is it that it goes two days without getting cleaned up? All week?"
   ]
  },
  {
   "cell_type": "code",
   "execution_count": 45,
   "id": "6310e17a",
   "metadata": {},
   "outputs": [],
   "source": [
    "n_visitors = .9 * 3 * 22\n",
    "clean = stats.binom(n_visitors, .03)"
   ]
  },
  {
   "cell_type": "code",
   "execution_count": 47,
   "id": "fd08832c",
   "metadata": {},
   "outputs": [
    {
     "data": {
      "text/plain": [
       "0.8362274861228873"
      ]
     },
     "execution_count": 47,
     "metadata": {},
     "output_type": "execute_result"
    }
   ],
   "source": [
    "#How likely is it that the break area gets cleaned up each day?\n",
    "everyday = clean.sf(0)\n",
    "everyday"
   ]
  },
  {
   "cell_type": "code",
   "execution_count": 51,
   "id": "6863a56e",
   "metadata": {},
   "outputs": [
    {
     "data": {
      "text/plain": [
       "0.02682143630162907"
      ]
     },
     "execution_count": 51,
     "metadata": {},
     "output_type": "execute_result"
    }
   ],
   "source": [
    "#How likely is it that the break area gets cleaned up each day?\n",
    "twodays_notclean = clean.cdf(0) ** 2\n",
    "twodays_notclean"
   ]
  },
  {
   "cell_type": "code",
   "execution_count": 53,
   "id": "78fe3d5a",
   "metadata": {},
   "outputs": [
    {
     "data": {
      "text/plain": [
       "0.00011781621791055136"
      ]
     },
     "execution_count": 53,
     "metadata": {},
     "output_type": "execute_result"
    }
   ],
   "source": [
    "#All week?\n",
    "\n",
    "week = clean.cdf(0) ** 5\n",
    "week"
   ]
  },
  {
   "cell_type": "code",
   "execution_count": null,
   "id": "af1a44c9",
   "metadata": {},
   "outputs": [],
   "source": [
    "# You want to get lunch at La Panaderia, but notice that the line is usually very \n",
    "# long at lunchtime. After several weeks of careful observation, you notice that the \n",
    "# average number of people in line when your lunch break starts is normally distributed \n",
    "# with a mean of 15 and standard deviation of 3. If it takes 2 minutes for each person to \n",
    "# order, and 10 minutes from ordering to getting your food, what is the likelihood that you \n",
    "# have at least 15 minutes left to eat your food before you have to go back to class? Assume \n",
    "# you have one hour for lunch, and ignore travel time to and from La Panaderia."
   ]
  },
  {
   "cell_type": "code",
   "execution_count": 55,
   "id": "6f556892",
   "metadata": {},
   "outputs": [
    {
     "data": {
      "text/plain": [
       "0.7475074624530771"
      ]
     },
     "execution_count": 55,
     "metadata": {},
     "output_type": "execute_result"
    }
   ],
   "source": [
    "μ = 15\n",
    "σ = 3\n",
    "\n",
    "line = stats.norm(μ, σ)\n",
    "people = (60 - 15 - 10) // 2\n",
    "p15 = line.cdf(people)\n",
    "p15"
   ]
  },
  {
   "cell_type": "code",
   "execution_count": null,
   "id": "80818880",
   "metadata": {},
   "outputs": [],
   "source": [
    "# Connect to the employees database and find the average salary of \n",
    "# current employees, along with the standard deviation. For the following \n",
    "# questions, calculate the answer based on modeling the employees salaries \n",
    "# with a normal distribution defined by the calculated mean and standard deviation \n",
    "# then compare this answer to the actual values present in the salaries dataset.\n",
    "\n",
    "# What percent of employees earn less than 60,000?\n",
    "# What percent of employees earn more than 95,000?\n",
    "# What percent of employees earn between 65,000 and 80,000?\n",
    "# What do the top 5% of employees make?"
   ]
  },
  {
   "cell_type": "code",
   "execution_count": 58,
   "id": "6c443ec9",
   "metadata": {},
   "outputs": [
    {
     "data": {
      "text/html": [
       "<div>\n",
       "<style scoped>\n",
       "    .dataframe tbody tr th:only-of-type {\n",
       "        vertical-align: middle;\n",
       "    }\n",
       "\n",
       "    .dataframe tbody tr th {\n",
       "        vertical-align: top;\n",
       "    }\n",
       "\n",
       "    .dataframe thead th {\n",
       "        text-align: right;\n",
       "    }\n",
       "</style>\n",
       "<table border=\"1\" class=\"dataframe\">\n",
       "  <thead>\n",
       "    <tr style=\"text-align: right;\">\n",
       "      <th></th>\n",
       "      <th>dept_no</th>\n",
       "      <th>dept_name</th>\n",
       "    </tr>\n",
       "  </thead>\n",
       "  <tbody>\n",
       "    <tr>\n",
       "      <th>0</th>\n",
       "      <td>d009</td>\n",
       "      <td>Customer Service</td>\n",
       "    </tr>\n",
       "    <tr>\n",
       "      <th>1</th>\n",
       "      <td>d005</td>\n",
       "      <td>Development</td>\n",
       "    </tr>\n",
       "    <tr>\n",
       "      <th>2</th>\n",
       "      <td>d002</td>\n",
       "      <td>Finance</td>\n",
       "    </tr>\n",
       "    <tr>\n",
       "      <th>3</th>\n",
       "      <td>d003</td>\n",
       "      <td>Human Resources</td>\n",
       "    </tr>\n",
       "    <tr>\n",
       "      <th>4</th>\n",
       "      <td>d001</td>\n",
       "      <td>Marketing</td>\n",
       "    </tr>\n",
       "    <tr>\n",
       "      <th>5</th>\n",
       "      <td>d004</td>\n",
       "      <td>Production</td>\n",
       "    </tr>\n",
       "    <tr>\n",
       "      <th>6</th>\n",
       "      <td>d006</td>\n",
       "      <td>Quality Management</td>\n",
       "    </tr>\n",
       "    <tr>\n",
       "      <th>7</th>\n",
       "      <td>d008</td>\n",
       "      <td>Research</td>\n",
       "    </tr>\n",
       "    <tr>\n",
       "      <th>8</th>\n",
       "      <td>d007</td>\n",
       "      <td>Sales</td>\n",
       "    </tr>\n",
       "  </tbody>\n",
       "</table>\n",
       "</div>"
      ],
      "text/plain": [
       "  dept_no           dept_name\n",
       "0    d009    Customer Service\n",
       "1    d005         Development\n",
       "2    d002             Finance\n",
       "3    d003     Human Resources\n",
       "4    d001           Marketing\n",
       "5    d004          Production\n",
       "6    d006  Quality Management\n",
       "7    d008            Research\n",
       "8    d007               Sales"
      ]
     },
     "execution_count": 58,
     "metadata": {},
     "output_type": "execute_result"
    }
   ],
   "source": [
    "import pandas as pd\n",
    "import env\n",
    "\n",
    "url = f'mysql+pymysql://{env.user}:{env.password}@{env.host}/employees'\n",
    "pd.read_sql('SELECT * FROM departments', url)"
   ]
  },
  {
   "cell_type": "code",
   "execution_count": 59,
   "id": "e0009d98",
   "metadata": {},
   "outputs": [],
   "source": [
    "salaries = pd.read_sql(query,url)"
   ]
  },
  {
   "cell_type": "code",
   "execution_count": 60,
   "id": "ce1c192a",
   "metadata": {},
   "outputs": [],
   "source": [
    "mean = salaries['salary'].mean()\n",
    "std = salaries['salary'].std()"
   ]
  },
  {
   "cell_type": "code",
   "execution_count": null,
   "id": "dd84facf",
   "metadata": {},
   "outputs": [],
   "source": [
    "\n",
    "# salary_dist = stats.norm(mean,std)\n",
    "# under_60k = salary_dist.cdf(60_000)\n",
    "# over_95k = salary_dist.sf(95_000)\n",
    "# between_65k_and_80k = salary_dist.cdf(80_000) - salary_dist.sf(65_000)\n",
    "# top_5 = salary_dist.isf(.05)"
   ]
  },
  {
   "cell_type": "code",
   "execution_count": 62,
   "id": "cddb22e6",
   "metadata": {},
   "outputs": [
    {
     "data": {
      "text/plain": [
       "<scipy.stats._distn_infrastructure.rv_frozen at 0x159fdf29310>"
      ]
     },
     "execution_count": 62,
     "metadata": {},
     "output_type": "execute_result"
    }
   ],
   "source": [
    "salary_dist = stats.norm(mean,std)\n",
    "salary_dist"
   ]
  },
  {
   "cell_type": "code",
   "execution_count": 63,
   "id": "032396a1",
   "metadata": {},
   "outputs": [
    {
     "data": {
      "text/plain": [
       "0.24385742480214423"
      ]
     },
     "execution_count": 63,
     "metadata": {},
     "output_type": "execute_result"
    }
   ],
   "source": [
    "# What percent of employees earn less than 60,000?\n",
    "under_60 = salary_dist.cdf(60000)\n",
    "under_60"
   ]
  },
  {
   "cell_type": "code",
   "execution_count": 64,
   "id": "bfba16a2",
   "metadata": {},
   "outputs": [
    {
     "data": {
      "text/plain": [
       "0.09208819199804053"
      ]
     },
     "execution_count": 64,
     "metadata": {},
     "output_type": "execute_result"
    }
   ],
   "source": [
    "# What percent of employees earn more than 95,000?\n",
    "morethan_95 = salary_dist.sf(95000)\n",
    "morethan_95"
   ]
  },
  {
   "cell_type": "code",
   "execution_count": 65,
   "id": "5b8a9dac",
   "metadata": {},
   "outputs": [
    {
     "data": {
      "text/plain": [
       "0.3350605685446666"
      ]
     },
     "execution_count": 65,
     "metadata": {},
     "output_type": "execute_result"
    }
   ],
   "source": [
    "# What percent of employees earn between 65,000 and 80,000?\n",
    "between_65_and_80 = salary_dist.cdf(80000)-salary_dist.cdf(65000)\n",
    "between_65_and_80"
   ]
  },
  {
   "cell_type": "code",
   "execution_count": 67,
   "id": "3ebc461c",
   "metadata": {},
   "outputs": [
    {
     "data": {
      "text/plain": [
       "100484.64454102777"
      ]
     },
     "execution_count": 67,
     "metadata": {},
     "output_type": "execute_result"
    }
   ],
   "source": [
    "# What do the top 5% of employees make?\n",
    "top = salary_dist.isf(.05)\n",
    "top"
   ]
  },
  {
   "cell_type": "code",
   "execution_count": null,
   "id": "06a0724f",
   "metadata": {},
   "outputs": [],
   "source": []
  },
  {
   "cell_type": "code",
   "execution_count": null,
   "id": "62e692d3",
   "metadata": {},
   "outputs": [],
   "source": []
  }
 ],
 "metadata": {
  "kernelspec": {
   "display_name": "Python 3 (ipykernel)",
   "language": "python",
   "name": "python3"
  },
  "language_info": {
   "codemirror_mode": {
    "name": "ipython",
    "version": 3
   },
   "file_extension": ".py",
   "mimetype": "text/x-python",
   "name": "python",
   "nbconvert_exporter": "python",
   "pygments_lexer": "ipython3",
   "version": "3.9.12"
  }
 },
 "nbformat": 4,
 "nbformat_minor": 5
}
