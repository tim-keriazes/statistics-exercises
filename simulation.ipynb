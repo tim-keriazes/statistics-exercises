{
 "cells": [
  {
   "cell_type": "code",
   "execution_count": 1,
   "id": "d2c958c6",
   "metadata": {},
   "outputs": [],
   "source": [
    "import numpy as np\n",
    "import pandas as pd\n",
    "import viz\n",
    "np.random.seed(29)"
   ]
  },
  {
   "cell_type": "code",
   "execution_count": 2,
   "id": "6ac6f206",
   "metadata": {},
   "outputs": [
    {
     "data": {
      "text/plain": [
       "array([[6, 4],\n",
       "       [5, 6],\n",
       "       [3, 1],\n",
       "       ...,\n",
       "       [2, 5],\n",
       "       [1, 4],\n",
       "       [4, 6]])"
      ]
     },
     "execution_count": 2,
     "metadata": {},
     "output_type": "execute_result"
    }
   ],
   "source": [
    "#How likely is it that you roll doubles when rolling two dice?\n",
    "\n",
    "n_trials = nrows = 10_000\n",
    "n_dice = ncols = 2\n",
    "\n",
    "rolls = np.random.choice([1, 2, 3, 4, 5, 6], n_trials * n_dice).reshape(nrows, ncols)\n",
    "rolls"
   ]
  },
  {
   "cell_type": "code",
   "execution_count": 3,
   "id": "5c62d94c",
   "metadata": {},
   "outputs": [
    {
     "data": {
      "text/html": [
       "<div>\n",
       "<style scoped>\n",
       "    .dataframe tbody tr th:only-of-type {\n",
       "        vertical-align: middle;\n",
       "    }\n",
       "\n",
       "    .dataframe tbody tr th {\n",
       "        vertical-align: top;\n",
       "    }\n",
       "\n",
       "    .dataframe thead th {\n",
       "        text-align: right;\n",
       "    }\n",
       "</style>\n",
       "<table border=\"1\" class=\"dataframe\">\n",
       "  <thead>\n",
       "    <tr style=\"text-align: right;\">\n",
       "      <th></th>\n",
       "      <th>0</th>\n",
       "      <th>1</th>\n",
       "    </tr>\n",
       "  </thead>\n",
       "  <tbody>\n",
       "    <tr>\n",
       "      <th>5</th>\n",
       "      <td>6</td>\n",
       "      <td>4</td>\n",
       "    </tr>\n",
       "    <tr>\n",
       "      <th>6</th>\n",
       "      <td>2</td>\n",
       "      <td>1</td>\n",
       "    </tr>\n",
       "    <tr>\n",
       "      <th>15</th>\n",
       "      <td>5</td>\n",
       "      <td>3</td>\n",
       "    </tr>\n",
       "    <tr>\n",
       "      <th>18</th>\n",
       "      <td>1</td>\n",
       "      <td>3</td>\n",
       "    </tr>\n",
       "    <tr>\n",
       "      <th>19</th>\n",
       "      <td>1</td>\n",
       "      <td>3</td>\n",
       "    </tr>\n",
       "    <tr>\n",
       "      <th>...</th>\n",
       "      <td>...</td>\n",
       "      <td>...</td>\n",
       "    </tr>\n",
       "    <tr>\n",
       "      <th>9995</th>\n",
       "      <td>5</td>\n",
       "      <td>2</td>\n",
       "    </tr>\n",
       "    <tr>\n",
       "      <th>9996</th>\n",
       "      <td>3</td>\n",
       "      <td>6</td>\n",
       "    </tr>\n",
       "    <tr>\n",
       "      <th>9997</th>\n",
       "      <td>2</td>\n",
       "      <td>5</td>\n",
       "    </tr>\n",
       "    <tr>\n",
       "      <th>9998</th>\n",
       "      <td>1</td>\n",
       "      <td>4</td>\n",
       "    </tr>\n",
       "    <tr>\n",
       "      <th>9999</th>\n",
       "      <td>4</td>\n",
       "      <td>6</td>\n",
       "    </tr>\n",
       "  </tbody>\n",
       "</table>\n",
       "<p>9964 rows × 2 columns</p>\n",
       "</div>"
      ],
      "text/plain": [
       "      0  1\n",
       "5     6  4\n",
       "6     2  1\n",
       "15    5  3\n",
       "18    1  3\n",
       "19    1  3\n",
       "...  .. ..\n",
       "9995  5  2\n",
       "9996  3  6\n",
       "9997  2  5\n",
       "9998  1  4\n",
       "9999  4  6\n",
       "\n",
       "[9964 rows x 2 columns]"
      ]
     },
     "execution_count": 3,
     "metadata": {},
     "output_type": "execute_result"
    }
   ],
   "source": [
    "isdoubles = pd.DataFrame(rolls)\n",
    "isdoubles[isdoubles.duplicated()]"
   ]
  },
  {
   "cell_type": "code",
   "execution_count": 4,
   "id": "04dab881",
   "metadata": {},
   "outputs": [
    {
     "data": {
      "text/plain": [
       "0.1709"
      ]
     },
     "execution_count": 4,
     "metadata": {},
     "output_type": "execute_result"
    }
   ],
   "source": [
    "#take dataframe setup boolean, see if col one equals col 2\n",
    "#number of true divided by total rows\n",
    "(isdoubles[1] == isdoubles[0]).mean()\n"
   ]
  },
  {
   "cell_type": "code",
   "execution_count": 5,
   "id": "d11ba98f",
   "metadata": {},
   "outputs": [],
   "source": [
    "# If you flip 8 coins, what is the probability of getting exactly 3 heads? \n",
    "# What is the probability of getting more than 3 heads?\n",
    "\n"
   ]
  },
  {
   "cell_type": "code",
   "execution_count": 6,
   "id": "ccf079cc",
   "metadata": {},
   "outputs": [
    {
     "data": {
      "text/plain": [
       "array([['heads', 'heads', 'heads', ..., 'heads', 'tails', 'tails'],\n",
       "       ['heads', 'heads', 'tails', ..., 'tails', 'tails', 'heads'],\n",
       "       ['tails', 'heads', 'tails', ..., 'tails', 'tails', 'tails'],\n",
       "       ...,\n",
       "       ['heads', 'tails', 'heads', ..., 'tails', 'tails', 'heads'],\n",
       "       ['tails', 'heads', 'heads', ..., 'tails', 'tails', 'tails'],\n",
       "       ['tails', 'heads', 'heads', ..., 'heads', 'tails', 'heads']],\n",
       "      dtype='<U5')"
      ]
     },
     "execution_count": 6,
     "metadata": {},
     "output_type": "execute_result"
    }
   ],
   "source": [
    "n_trials = nrows = 10_000\n",
    "n_dice = ncols = 8\n",
    "\n",
    "flips = np.random.choice(['heads','tails'], n_trials * n_dice).reshape(nrows, ncols)\n",
    "flips"
   ]
  },
  {
   "cell_type": "code",
   "execution_count": 10,
   "id": "7289cc57",
   "metadata": {},
   "outputs": [],
   "source": [
    "#moved to a different setup bc I couldnt get the 'heads' and 'tails' version to work,\n",
    "coins = pd.DataFrame(np.random.randint(0,2,(1000000,8)))"
   ]
  },
  {
   "cell_type": "code",
   "execution_count": 12,
   "id": "58822fec",
   "metadata": {},
   "outputs": [
    {
     "data": {
      "text/plain": [
       "0.218598"
      ]
     },
     "execution_count": 12,
     "metadata": {},
     "output_type": "execute_result"
    }
   ],
   "source": [
    "#probability of three heads\n",
    "p_three_heads = (coins.sum(axis=1) == 3).mean()\n",
    "\n",
    "p_three_heads\n"
   ]
  },
  {
   "cell_type": "code",
   "execution_count": 13,
   "id": "02cd15b5",
   "metadata": {},
   "outputs": [
    {
     "data": {
      "text/plain": [
       "0.63616"
      ]
     },
     "execution_count": 13,
     "metadata": {},
     "output_type": "execute_result"
    }
   ],
   "source": [
    "#probability of over three\n",
    "p_over_three = (coins.sum(axis=1) > 3).mean()\n",
    "\n",
    "p_over_three"
   ]
  },
  {
   "cell_type": "code",
   "execution_count": null,
   "id": "6066133e",
   "metadata": {},
   "outputs": [],
   "source": [
    "# There are approximitely 3 web development cohorts for every 1 data science cohort at Codeup. \n",
    "# Assuming that Codeup randomly selects an alumni to put on a billboard, what are the odds that \n",
    "# the two billboards I drive past both have data science students on them?"
   ]
  },
  {
   "cell_type": "code",
   "execution_count": 30,
   "id": "291976cc",
   "metadata": {},
   "outputs": [
    {
     "data": {
      "text/plain": [
       "0.062011"
      ]
     },
     "execution_count": 30,
     "metadata": {},
     "output_type": "execute_result"
    }
   ],
   "source": [
    "billboards = np.random.random((1000000,2))\n",
    "#1 ds 3 web dev, .25\n",
    "dsstudents = (billboards <= .25).prod(axis=1).mean()\n",
    "dsstudents"
   ]
  },
  {
   "cell_type": "code",
   "execution_count": null,
   "id": "258e19ee",
   "metadata": {},
   "outputs": [],
   "source": [
    "# Codeup students buy, on average, 3 poptart packages with a standard deviation of 1.5 a day from the \n",
    "# snack vending machine. If on monday the machine is restocked with 17 poptart packages, how likely is \n",
    "# it that I will be able to buy some poptarts on Friday afternoon? (Remember, if you have mean and standard \n",
    "# deviation, use the np.random.normal) You'll need to make a judgement call on how to handle some of your values"
   ]
  },
  {
   "cell_type": "code",
   "execution_count": 17,
   "id": "c4434d1c",
   "metadata": {},
   "outputs": [
    {
     "data": {
      "text/plain": [
       "0.66997"
      ]
     },
     "execution_count": 17,
     "metadata": {},
     "output_type": "execute_result"
    }
   ],
   "source": [
    "#3 poptarts a day with 1.5 std, 5 days a week\n",
    "poptarts = np.random.normal(3, 1.5, (1000000,5))\n",
    "poptarts = poptarts.round()\n",
    "#probability of poptarts with 17 available...on friday\n",
    "_friday = (poptarts.sum(axis = 1)<= 16).mean()\n",
    "_friday"
   ]
  },
  {
   "cell_type": "code",
   "execution_count": null,
   "id": "76ab38b3",
   "metadata": {},
   "outputs": [],
   "source": [
    "# Compare Heights\n",
    "\n",
    "# Men have an average height of 178 cm and standard deviation of 8cm.\n",
    "# Women have a mean of 170, sd = 6cm.\n",
    "# Since you have means and standard deviations, you can use np.random.normal to generate observations.\n",
    "# If a man and woman are chosen at random, what is the likelihood the woman is taller than the man?"
   ]
  },
  {
   "cell_type": "code",
   "execution_count": 18,
   "id": "df8c9727",
   "metadata": {},
   "outputs": [
    {
     "data": {
      "text/plain": [
       "array([171.48760266, 180.89658916, 173.12083277, ..., 169.25570989,\n",
       "       171.73276698, 167.84786464])"
      ]
     },
     "execution_count": 18,
     "metadata": {},
     "output_type": "execute_result"
    }
   ],
   "source": [
    "#np.random.normal(mean,std, trials)\n",
    "men = np.random.normal(178, 8, 1000000)\n",
    "men"
   ]
  },
  {
   "cell_type": "code",
   "execution_count": 19,
   "id": "20c1816a",
   "metadata": {},
   "outputs": [
    {
     "data": {
      "text/plain": [
       "array([171.14667632, 184.5996602 , 164.1748521 , ..., 174.81674828,\n",
       "       171.25980244, 175.11495184])"
      ]
     },
     "execution_count": 19,
     "metadata": {},
     "output_type": "execute_result"
    }
   ],
   "source": [
    "women = np.random.normal(170, 6, 1000000)\n",
    "women"
   ]
  },
  {
   "cell_type": "code",
   "execution_count": 20,
   "id": "44bb7ff1",
   "metadata": {},
   "outputs": [
    {
     "data": {
      "text/plain": [
       "0.211684"
      ]
     },
     "execution_count": 20,
     "metadata": {},
     "output_type": "execute_result"
    }
   ],
   "source": [
    "#probability of variables as setup previously where women > men\n",
    "ptallerwoman = (women > men).mean()\n",
    "ptallerwoman"
   ]
  },
  {
   "cell_type": "code",
   "execution_count": null,
   "id": "d9d68abe",
   "metadata": {},
   "outputs": [],
   "source": [
    "# When installing anaconda on a student's computer, there's a 1 in 250 chance that the download is corrupted \n",
    "# and the installation fails. What are the odds that after having 50 students download anaconda, no one has an \n",
    "# installation issue? 100 students?\n",
    "\n",
    "# What is the probability that we observe an installation issue within the first 150 students that download anaconda?"
   ]
  },
  {
   "cell_type": "code",
   "execution_count": 23,
   "id": "1bed93ff",
   "metadata": {},
   "outputs": [
    {
     "data": {
      "text/plain": [
       "0.816"
      ]
     },
     "execution_count": 23,
     "metadata": {},
     "output_type": "execute_result"
    }
   ],
   "source": [
    "failrate = 1/250\n",
    "nofail_fifty = (np.random.random((10000,50))> failrate).prod(axis=1).mean()\n",
    "nofail_fifty"
   ]
  },
  {
   "cell_type": "code",
   "execution_count": 25,
   "id": "5983d223",
   "metadata": {},
   "outputs": [
    {
     "data": {
      "text/plain": [
       "0.6714"
      ]
     },
     "execution_count": 25,
     "metadata": {},
     "output_type": "execute_result"
    }
   ],
   "source": [
    "nofail_hundred = (np.random.random((10000,100)) > failrate).prod(axis=1).mean()\n",
    "nofail_hundred"
   ]
  },
  {
   "cell_type": "code",
   "execution_count": 27,
   "id": "c1011bb4",
   "metadata": {},
   "outputs": [
    {
     "data": {
      "text/plain": [
       "0.5499"
      ]
     },
     "execution_count": 27,
     "metadata": {},
     "output_type": "execute_result"
    }
   ],
   "source": [
    "nofail_hunredfifty = (np.random.random((10000,150)) > failrate).prod(axis=1).mean()\n",
    "nofail_hunredfifty"
   ]
  },
  {
   "cell_type": "code",
   "execution_count": 29,
   "id": "cbfd45ee",
   "metadata": {},
   "outputs": [
    {
     "data": {
      "text/plain": [
       "0.1689"
      ]
     },
     "execution_count": 29,
     "metadata": {},
     "output_type": "execute_result"
    }
   ],
   "source": [
    "nofail_fourfifty = (np.random.random((10000,450))> failrate).prod(axis = 1).mean()\n",
    "nofail_fourfifty"
   ]
  },
  {
   "cell_type": "code",
   "execution_count": null,
   "id": "f5ec1509",
   "metadata": {},
   "outputs": [],
   "source": [
    "# There's a 70% chance on any given day that there will be at least one food truck at Travis Park. \n",
    "# However, you haven't seen a food truck there in 3 days. How unlikely is this?\n",
    "\n",
    "# How likely is it that a food truck will show up sometime this week?"
   ]
  },
  {
   "cell_type": "code",
   "execution_count": 31,
   "id": "ae40b8aa",
   "metadata": {},
   "outputs": [
    {
     "data": {
      "text/plain": [
       "0.0272"
      ]
     },
     "execution_count": 31,
     "metadata": {},
     "output_type": "execute_result"
    }
   ],
   "source": [
    "threedays = (np.random.random((10000,3))> .7).prod(axis=1).mean()\n",
    "threedays"
   ]
  },
  {
   "cell_type": "code",
   "execution_count": 50,
   "id": "5035247c",
   "metadata": {},
   "outputs": [
    {
     "data": {
      "text/plain": [
       "0.698075"
      ]
     },
     "execution_count": 50,
     "metadata": {},
     "output_type": "execute_result"
    }
   ],
   "source": [
    "#need to revisit this part\n",
    "\n",
    "restofweek = np.random.choice([0,1], size = (10000,4), p=[.3,.7]).mean()\n",
    "\n",
    "restofweek"
   ]
  },
  {
   "cell_type": "code",
   "execution_count": null,
   "id": "8d8925b4",
   "metadata": {},
   "outputs": [],
   "source": [
    "# If 23 people are in the same room, what are the odds that two of them share a birthday? What if it's 20 people? 40?"
   ]
  },
  {
   "cell_type": "code",
   "execution_count": 34,
   "id": "d3617ed9",
   "metadata": {},
   "outputs": [
    {
     "data": {
      "text/plain": [
       "0.5015"
      ]
     },
     "execution_count": 34,
     "metadata": {},
     "output_type": "execute_result"
    }
   ],
   "source": [
    "bday_twentythree = pd.DataFrame(np.random.randint(0,365,(10000,23)))\n",
    "same_bdaytwentythree = bday_twentythree.apply(lambda x: len(set(x)) != len(x), axis=1).mean()\n",
    "same_bdaytwentythree"
   ]
  },
  {
   "cell_type": "code",
   "execution_count": 35,
   "id": "6c0b2aca",
   "metadata": {},
   "outputs": [
    {
     "data": {
      "text/plain": [
       "0.408"
      ]
     },
     "execution_count": 35,
     "metadata": {},
     "output_type": "execute_result"
    }
   ],
   "source": [
    "bday_twenty = pd.DataFrame(np.random.randint(0,365, (10000, 20)))\n",
    "same_bdaytwenty = bday_twenty.apply(lambda x: len(set(x))!= len(x),axis=1).mean()\n",
    "same_bdaytwenty"
   ]
  },
  {
   "cell_type": "code",
   "execution_count": 36,
   "id": "f74e724b",
   "metadata": {},
   "outputs": [
    {
     "data": {
      "text/plain": [
       "0.8913"
      ]
     },
     "execution_count": 36,
     "metadata": {},
     "output_type": "execute_result"
    }
   ],
   "source": [
    "bday_forty =  pd.DataFrame(np.random.randint(0,365,(10000,40)))\n",
    "same_bdayforty = bday_forty.apply(lambda x: len(set(x)) != len(x), axis=1).mean()\n",
    "same_bdayforty"
   ]
  },
  {
   "cell_type": "code",
   "execution_count": null,
   "id": "3adcb812",
   "metadata": {},
   "outputs": [],
   "source": []
  }
 ],
 "metadata": {
  "kernelspec": {
   "display_name": "Python 3 (ipykernel)",
   "language": "python",
   "name": "python3"
  },
  "language_info": {
   "codemirror_mode": {
    "name": "ipython",
    "version": 3
   },
   "file_extension": ".py",
   "mimetype": "text/x-python",
   "name": "python",
   "nbconvert_exporter": "python",
   "pygments_lexer": "ipython3",
   "version": "3.9.12"
  }
 },
 "nbformat": 4,
 "nbformat_minor": 5
}
